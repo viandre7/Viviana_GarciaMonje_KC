{
  "nbformat": 4,
  "nbformat_minor": 0,
  "metadata": {
    "colab": {
      "name": "Taller3_ok.ipynb",
      "provenance": [],
      "collapsed_sections": [],
      "include_colab_link": true
    },
    "kernelspec": {
      "display_name": "Python 3",
      "language": "python",
      "name": "python3"
    },
    "language_info": {
      "codemirror_mode": {
        "name": "ipython",
        "version": 3
      },
      "file_extension": ".py",
      "mimetype": "text/x-python",
      "name": "python",
      "nbconvert_exporter": "python",
      "pygments_lexer": "ipython3",
      "version": "3.7.10"
    }
  },
  "cells": [
    {
      "cell_type": "markdown",
      "metadata": {
        "id": "view-in-github",
        "colab_type": "text"
      },
      "source": [
        "<a href=\"https://colab.research.google.com/github/viandre7/Viviana_GarciaMonje_KC/blob/main/Taller3_ok.ipynb\" target=\"_parent\"><img src=\"https://colab.research.google.com/assets/colab-badge.svg\" alt=\"Open In Colab\"/></a>"
      ]
    },
    {
      "cell_type": "markdown",
      "metadata": {
        "id": "n47cxa3bFMxl"
      },
      "source": [
        "# Python en un contexto de Negocio de aerolineas (Caso practico)"
      ]
    },
    {
      "cell_type": "markdown",
      "metadata": {
        "id": "x4F5W2Xc6UOp"
      },
      "source": [
        "**Contexto empresarial.** Es un empleado de GrowthAir, una compañía aérea comercial en crecimiento. En los últimos años, GrowthAir ha expandido los servicios de vuelos de lujo a ubicaciones en todo el mundo. Tras el excelente desempeño de su equipo en la identificación de nuevas oportunidades comerciales el año pasado, se le ha encomendado la tarea de identificar los principales países para expandir aún más el servicio de vuelos de lujo de GrowthAir.\n",
        "\n",
        "**Problema empresarial.** Su gerente le ha pedido que responda a la siguiente pregunta: \"¿En qué países debería GrowthAir expandir su servicio de vuelos de lujo?\"\n",
        "\n",
        "**Contexto analítico.** Los datos relevantes son una serie de estimaciones de éxito (es decir, probabilidades de éxito) que han elaborado sus equipos internos de investigación de mercados. Usando su capacidad para realizar análisis de datos en Python, se embarcará en resumir las estimaciones de éxito disponibles para producir una recomendación concisa para su jefe."
      ]
    },
    {
      "cell_type": "code",
      "metadata": {
        "id": "QxYIji7W6k4V"
      },
      "source": [
        "#Datos sobre la probabilidad de éxito de la expansión por estimaciones de países\n",
        "success_estimates = {'Australia': [0.6, 0.33, 0.11, 0.14],\n",
        "                     'France': [0.66, 0.78, 0.98, 0.2],\n",
        "                     'Italy': [0.6],\n",
        "                     'Brazil': [0.22, 0.22, 0.43],\n",
        "                     'USA': [0.2, 0.5, 0.3],\n",
        "                     'England': [0.45],\n",
        "                     'Canada': [0.25, 0.3],\n",
        "                     'Argentina': [0.22],\n",
        "                     'Greece': [0.45, 0.66, 0.75, 0.99, 0.15, 0.66],\n",
        "                     'Morocco': [0.29],\n",
        "                     'Tunisia': [0.68, 0.56],\n",
        "                     'Egypt': [0.99],\n",
        "                     'Jamaica': [0.61, 0.65, 0.71],\n",
        "                     'Switzerland': [0.73, 0.86, 0.84, 0.51, 0.99],\n",
        "                     'Germany': [0.45, 0.49, 0.36]}"
      ],
      "execution_count": null,
      "outputs": []
    },
    {
      "cell_type": "code",
      "metadata": {
        "colab": {
          "base_uri": "https://localhost:8080/"
        },
        "id": "u3tZUQyL6pBs",
        "outputId": "3dbe41f2-bddb-417b-87d9-b6ea6c8414c7"
      },
      "source": [
        "print(success_estimates)"
      ],
      "execution_count": null,
      "outputs": [
        {
          "name": "stdout",
          "output_type": "stream",
          "text": [
            "{'Australia': [0.6, 0.33, 0.11, 0.14], 'France': [0.66, 0.78, 0.98, 0.2], 'Italy': [0.6], 'Brazil': [0.22, 0.22, 0.43], 'USA': [0.2, 0.5, 0.3], 'England': [0.45], 'Canada': [0.25, 0.3], 'Argentina': [0.22], 'Greece': [0.45, 0.66, 0.75, 0.99, 0.15, 0.66], 'Morocco': [0.29], 'Tunisia': [0.68, 0.56], 'Egypt': [0.99], 'Jamaica': [0.61, 0.65, 0.71], 'Switzerland': [0.73, 0.86, 0.84, 0.51, 0.99], 'Germany': [0.45, 0.49, 0.36]}\n"
          ]
        }
      ]
    },
    {
      "cell_type": "markdown",
      "metadata": {
        "id": "_vmWKSES6usL"
      },
      "source": [
        "Observe el reordenamiento de los elementos del diccionario cuando imprimimos en comparación con el orden en el que originalmente definimos el diccionario. Este es un aspecto clave de los tipos de datos de diccionario: ¡están desordenados! (Esto es muy diferente en comparación con los tipos de datos de lista, que están ordenados.).\n",
        "\n",
        "Ahora intuitivamente, nos gustaría recomendar que la empresa se esfuerce en el país con la estimación de éxito más alta. Pero, ¿qué significa esto cuando hay múltiples estimaciones de éxito para algunos países y solo una para otros? Exploraremos esto a continuación.\n",
        "\n",
        "\n",
        "# Interactuemos con los diccionarios y listas\n",
        "\n",
        "Si observa detenidamente el diccionario ```success_estimates```, verá que algunos países solo tienen una estimación de éxito, mientras que otros tienen muchas. Por ejemplo, Inglaterra solo tiene una estimación en su lista [0,45], mientras que Jamaica tiene tres estimaciones en su lista [0,61, 0,65, 0,71]. Acerquémonos a Jamaica y echemos un vistazo a algunas estadísticas resumidas de las estimaciones.\n",
        "\n",
        "En Python, el tipo de diccionario tiene métodos incorporados (funciones, que discutiremos más adelante) para acceder a las claves y valores del diccionario. Estos métodos se llaman escribiendo  ```.keys()``` o ```.values ()``` después del objeto dictonary. Cambiaremos el tipo de retorno de las llamadas ```.keys()``` y ```.values()``` a una lista utilizando el método ```list()```."
      ]
    },
    {
      "cell_type": "code",
      "metadata": {
        "colab": {
          "base_uri": "https://localhost:8080/"
        },
        "id": "ApZ3bU-l6uIj",
        "outputId": "50dc9bdb-719e-41da-b7eb-91f70da23ab2"
      },
      "source": [
        "list(success_estimates.keys())"
      ],
      "execution_count": null,
      "outputs": [
        {
          "data": {
            "text/plain": [
              "['Australia',\n",
              " 'France',\n",
              " 'Italy',\n",
              " 'Brazil',\n",
              " 'USA',\n",
              " 'England',\n",
              " 'Canada',\n",
              " 'Argentina',\n",
              " 'Greece',\n",
              " 'Morocco',\n",
              " 'Tunisia',\n",
              " 'Egypt',\n",
              " 'Jamaica',\n",
              " 'Switzerland',\n",
              " 'Germany']"
            ]
          },
          "execution_count": 3,
          "metadata": {
            "tags": []
          },
          "output_type": "execute_result"
        }
      ]
    },
    {
      "cell_type": "code",
      "metadata": {
        "colab": {
          "base_uri": "https://localhost:8080/"
        },
        "id": "QG0UF31N7blB",
        "outputId": "06d51a24-e80b-42e8-ea84-53731d316ee0"
      },
      "source": [
        "list(success_estimates.values())"
      ],
      "execution_count": null,
      "outputs": [
        {
          "data": {
            "text/plain": [
              "[[0.6, 0.33, 0.11, 0.14],\n",
              " [0.66, 0.78, 0.98, 0.2],\n",
              " [0.6],\n",
              " [0.22, 0.22, 0.43],\n",
              " [0.2, 0.5, 0.3],\n",
              " [0.45],\n",
              " [0.25, 0.3],\n",
              " [0.22],\n",
              " [0.45, 0.66, 0.75, 0.99, 0.15, 0.66],\n",
              " [0.29],\n",
              " [0.68, 0.56],\n",
              " [0.99],\n",
              " [0.61, 0.65, 0.71],\n",
              " [0.73, 0.86, 0.84, 0.51, 0.99],\n",
              " [0.45, 0.49, 0.36]]"
            ]
          },
          "execution_count": 4,
          "metadata": {
            "tags": []
          },
          "output_type": "execute_result"
        }
      ]
    },
    {
      "cell_type": "markdown",
      "metadata": {
        "id": "nlH6GNGb7fgf"
      },
      "source": [
        "Haremos uso del acceso a las llaves primarias y valores de un diccionario más adelante en el caso al comparar las estimaciones de numerosos países. Por ahora, recuerde que puede acceder a la lista completa de llaves primarias o valores de un diccionario simplemente llamando a los métodos integrados.\n",
        "\n",
        "# Ejercicio 1\n",
        "También nos gustaría comprobar si el nombre de un país es una de las claves del diccionario. Verificar si Morocco y Japan se encuentran en ``success_estimates``\n",
        "\n",
        "De ser asi obtener la lista de valores para Morocco y Japan\n"
      ]
    },
    {
      "cell_type": "code",
      "metadata": {
        "id": "Dd876bxIp1or"
      },
      "source": [
        "def ver_claves(pais):\n",
        "\n",
        "  if pais in success_estimates:\n",
        "    result= print('La lista de los valores de',pais,'es: ',success_estimates[pais])\n",
        "    return result\n",
        "\n",
        "  else:\n",
        "    result=print('El pais', pais, 'no se encuentra')\n",
        "    return result"
      ],
      "execution_count": null,
      "outputs": []
    },
    {
      "cell_type": "code",
      "metadata": {
        "colab": {
          "base_uri": "https://localhost:8080/"
        },
        "id": "z3AfVTSCp5Rc",
        "outputId": "1781f15b-d51e-4cb7-a9e3-a8b0c5efa263"
      },
      "source": [
        "ver_claves(input('Por favor digite el nombre del país que desea verificar: '))"
      ],
      "execution_count": null,
      "outputs": [
        {
          "output_type": "stream",
          "text": [
            "Por favor digite el nombre del país que desea verificar: Morocco\n",
            "La lista de los valores de Morocco es:  [0.29]\n"
          ],
          "name": "stdout"
        }
      ]
    },
    {
      "cell_type": "markdown",
      "metadata": {
        "id": "mI3Dq3aC8qNp"
      },
      "source": [
        "# Ejercicio 2\n",
        "Imprimir la longitud de las listas de estimaciones de éxito para Francia, Grecia y Marruecos.\n"
      ]
    },
    {
      "cell_type": "code",
      "metadata": {
        "id": "5AF0-lm28sGf"
      },
      "source": [
        "def longitud(long_):\n",
        "  if long_ in success_estimates:\n",
        "    list_len = len(success_estimates[long_])\n",
        "    return list_len"
      ],
      "execution_count": null,
      "outputs": []
    },
    {
      "cell_type": "code",
      "metadata": {
        "colab": {
          "base_uri": "https://localhost:8080/"
        },
        "id": "CendN9FPqVL_",
        "outputId": "239d8e46-e50c-4926-971a-4292be2f68c2"
      },
      "source": [
        "longitud(input('Por favor digite el nombre del país: '))"
      ],
      "execution_count": null,
      "outputs": [
        {
          "output_type": "stream",
          "text": [
            "Por favor digite el nombre del país: France\n"
          ],
          "name": "stdout"
        },
        {
          "output_type": "execute_result",
          "data": {
            "text/plain": [
              "4"
            ]
          },
          "metadata": {},
          "execution_count": 17
        }
      ]
    },
    {
      "cell_type": "markdown",
      "metadata": {
        "id": "h8IXfjrP9Ld4"
      },
      "source": [
        "# Ejercicio 3\n",
        "\n",
        "¿Cuál de las siguientes opciones sería útil para almacenar estimaciones de éxito del proyecto si estuvieran disponibles a nivel regional en lugar de a nivel nacional?\n",
        "\n",
        "a) Lista\n",
        "\n",
        "(b) Diccionario\n",
        "\n",
        "(c) Flotantes\n",
        "\n",
        "(d) Cadena"
      ]
    },
    {
      "cell_type": "markdown",
      "metadata": {
        "id": "zo4-e-t79P8V"
      },
      "source": [
        "Diccionario, esto teniendo en cuenta las propiedades de los mismos, las cuales nos permiten definir y acceder a los compnentes mediante llaves/claves, así como de los mismos valores, segun sea lo solicitado.son de acceso rápido.\n",
        "\n",
        "Adicional para el presente proyecto, sin importar que los datos o estimaciones de exito sean a nivel nacional o regional, el beneficio de los diccionarios es el mismo"
      ]
    },
    {
      "cell_type": "markdown",
      "metadata": {
        "id": "uOXzDyFq9iqu"
      },
      "source": [
        "## Calcular una estimación de éxito promedio específica de un país\n",
        "\n",
        "Continuando con nuestro análisis sobre Jamaica, la lista contiene tres números, [0,61, 0,65, 0,71]. Recuerde que estos números son del tipo ```float``` en Python, que almacena valores decimales numéricos. Una forma lógica de resumir estas estimaciones para poder compararlas entre países es utilizar el promedio aritmético. Usemos operadores artiméticos básicos para calcular la estimación de éxito promedio para Jamaica, almacenando el resultado en una nueva variable ```avg_jamaica```:"
      ]
    },
    {
      "cell_type": "code",
      "metadata": {
        "colab": {
          "base_uri": "https://localhost:8080/"
        },
        "id": "lvtC901V9r4j",
        "outputId": "5b883fb5-fcf5-49e9-a96c-4dbc52ebd00c"
      },
      "source": [
        "avg_jamaica = (0.61 + 0.65 + 0.71) / 3\n",
        "print(avg_jamaica)"
      ],
      "execution_count": null,
      "outputs": [
        {
          "name": "stdout",
          "output_type": "stream",
          "text": [
            "0.6566666666666666\n"
          ]
        }
      ]
    },
    {
      "cell_type": "markdown",
      "metadata": {
        "id": "vbEso-Zg9yEl"
      },
      "source": [
        "Vemos que la probabilidad promedio de éxito estimada para Jamaica es de aproximadamente 0.657. Sin embargo, producimos esta estimación codificando manualmente los valores. Si hiciéramos esto para todos los países, llevaría bastante tiempo. Por eso, nos gustaría utilizar una forma más automatizada de producir el promedio.\n",
        "\n",
        "Para producir un promedio, podemos utilizar una <b>función</b>. Las funciones operan sobre datos y variables en Python para realizar una acción deseada. Las funciones pueden tener tanto <b> entradas </b> como <b> salidas </b>, al igual que los operadores matemáticos familiares como suma, resta, multiplicación y división (que tienen dos entradas y una salida). Si bien las funciones en Python aún pueden tener un propósito matemático, como elevar al cuadrado un número entero, Python permite un comportamiento de función más abstracto, como imprimir en la pantalla. En este caso, la función ```print()``` imprimirá su entrada en la pantalla."
      ]
    },
    {
      "cell_type": "code",
      "metadata": {
        "colab": {
          "base_uri": "https://localhost:8080/"
        },
        "id": "NKADD__Q-CBw",
        "outputId": "5dcb259a-3e03-4424-fba6-a438f3b85330"
      },
      "source": [
        "country_name = 'Jamaica'\n",
        "jamaica_list = success_estimates[country_name] # lista de estimacione spara jamaica\n",
        "print(jamaica_list)"
      ],
      "execution_count": null,
      "outputs": [
        {
          "name": "stdout",
          "output_type": "stream",
          "text": [
            "[0.61, 0.65, 0.71]\n"
          ]
        }
      ]
    },
    {
      "cell_type": "code",
      "metadata": {
        "colab": {
          "base_uri": "https://localhost:8080/"
        },
        "id": "NEnDr1a_-HrH",
        "outputId": "0633d346-a6b6-4560-d180-9e7836c53ae0"
      },
      "source": [
        "avg_jamaica = sum(jamaica_list) / len(jamaica_list)\n",
        "min_jamaica = min(jamaica_list)\n",
        "max_jamaica = max(jamaica_list)\n",
        "print(\"Pais:\",country_name,\", Average:\",avg_jamaica)\n",
        "print(\"Pais:\",country_name,\", Min:\",min_jamaica)\n",
        "print(\"Pais:\",country_name,\", Max:\",max_jamaica)"
      ],
      "execution_count": null,
      "outputs": [
        {
          "name": "stdout",
          "output_type": "stream",
          "text": [
            "Pais: Jamaica , Average: 0.6566666666666666\n",
            "Pais: Jamaica , Min: 0.61\n",
            "Pais: Jamaica , Max: 0.71\n"
          ]
        }
      ]
    },
    {
      "cell_type": "code",
      "metadata": {
        "colab": {
          "base_uri": "https://localhost:8080/"
        },
        "id": "Y0FSNwxC-L_W",
        "outputId": "777bb297-fca9-4069-da7f-d502aa7c8030"
      },
      "source": [
        "# Ahora redondeando\n",
        "avg_jamaica = round(sum(jamaica_list) / len(jamaica_list),2)\n",
        "min_jamaica = round(min(jamaica_list),2)\n",
        "max_jamaica = round(max(jamaica_list),2)\n",
        "print(\"Pais:\",country_name,\", Average:\",avg_jamaica)\n",
        "print(\"Pais:\",country_name,\", Min:\",min_jamaica)\n",
        "print(\"Pais:\",country_name,\", Max:\",max_jamaica)"
      ],
      "execution_count": null,
      "outputs": [
        {
          "name": "stdout",
          "output_type": "stream",
          "text": [
            "Pais: Jamaica , Average: 0.66\n",
            "Pais: Jamaica , Min: 0.61\n",
            "Pais: Jamaica , Max: 0.71\n"
          ]
        }
      ]
    },
    {
      "cell_type": "markdown",
      "metadata": {
        "id": "OtV5GvUE_GpL"
      },
      "source": [
        "Escribamos un código para calcular el éxito promedio de cada país. Muestra (usando print ()) la estimación de éxito promedio de cada país en la pantalla. Las declaraciones impresas deben mostrar cada país en una nueva línea, por ejemplo:"
      ]
    },
    {
      "cell_type": "code",
      "metadata": {
        "colab": {
          "base_uri": "https://localhost:8080/"
        },
        "id": "7jDs7ZZP_JSC",
        "outputId": "02337c25-da28-47be-a3fb-c2fa8ca99aa1"
      },
      "source": [
        "print(\"Pais:\",'France',\", Average:\",sum(success_estimates['France']) / len(success_estimates['France']))\n",
        "print(\"Pais:\",'Brazil',\", Average:\",sum(success_estimates['Brazil']) / len(success_estimates['Brazil']))\n",
        "print(\"Pais:\",'Argentina',\", Average:\",sum(success_estimates['Argentina']) / len(success_estimates['Argentina']))\n",
        "print(\"Pais:\",'Germany',\", Average:\",sum(success_estimates['Germany']) / len(success_estimates['Germany']))\n",
        "print(\"Pais:\",'Australia',\", Average:\",sum(success_estimates['Australia']) / len(success_estimates['Australia']))\n",
        "print(\"Pais:\",'Canada',\", Average:\",sum(success_estimates['Canada']) / len(success_estimates['Canada']))\n",
        "print(\"Pais:\",'Greece',\", Average:\",sum(success_estimates['Greece']) / len(success_estimates['Greece']))\n",
        "print(\"Pais:\",'USA',\", Average:\",sum(success_estimates['USA']) / len(success_estimates['USA']))\n",
        "print(\"Pais:\",'Switzerland',\", Average:\",sum(success_estimates['Switzerland']) / len(success_estimates['Switzerland']))\n",
        "print(\"Pais:\",'Tunisia',\", Average:\",sum(success_estimates['Tunisia']) /len(success_estimates['Tunisia']))\n",
        "print(\"Pais:\",'Italy',\", Average:\",sum(success_estimates['Italy']) / len(success_estimates['Italy']))\n",
        "print(\"Pais:\",'Egypt',\", Average:\",sum(success_estimates['Egypt']) / len(success_estimates['Egypt']))\n",
        "print(\"Pais:\",'Jamaica',\", Average:\",sum(success_estimates['Jamaica']) / len(success_estimates['Jamaica']))\n",
        "print(\"Pais:\",'Morocco',\", Average:\",sum(success_estimates['Morocco']) / len(success_estimates['Morocco']))\n",
        "print(\"Pais:\",'England',\", Average:\",sum(success_estimates['England']) / len(success_estimates['England']))"
      ],
      "execution_count": null,
      "outputs": [
        {
          "name": "stdout",
          "output_type": "stream",
          "text": [
            "Pais: France , Average: 0.655\n",
            "Pais: Brazil , Average: 0.29\n",
            "Pais: Argentina , Average: 0.22\n",
            "Pais: Germany , Average: 0.4333333333333333\n",
            "Pais: Australia , Average: 0.29500000000000004\n",
            "Pais: Canada , Average: 0.275\n",
            "Pais: Greece , Average: 0.61\n",
            "Pais: USA , Average: 0.3333333333333333\n",
            "Pais: Switzerland , Average: 0.7859999999999999\n",
            "Pais: Tunisia , Average: 0.6200000000000001\n",
            "Pais: Italy , Average: 0.6\n",
            "Pais: Egypt , Average: 0.99\n",
            "Pais: Jamaica , Average: 0.6566666666666666\n",
            "Pais: Morocco , Average: 0.29\n",
            "Pais: England , Average: 0.45\n"
          ]
        }
      ]
    },
    {
      "cell_type": "markdown",
      "metadata": {
        "id": "DAbF8enH_Sc_"
      },
      "source": [
        "## Determinar sistemáticamente la estimación de éxito promedio para todos los países\n",
        "\n",
        "El objetivo final de este análisis es una recomendación sobre dónde se deben considerar las oportunidades de expansión global. Para llegar a una conclusión, sería ideal tener la probabilidad de éxito promedio para cada país.\n",
        "\n",
        "Para lograr esto, usaremos un elemento de flujo de control en Python: el <b> bucle for </b>. El bucle ```for``` permite ejecutar las mismas declaraciones una y otra vez (es decir, en bucle). Esto ahorra una cantidad significativa de tiempo codificando tareas repetitivas y ayuda en la legibilidad del código. La estructura general de un bucle for es:\n",
        "\n",
        "```python\n",
        "for iterator_variable in some_sequence:\n",
        "    statements(s)\n",
        "```\n",
        "\n",
        "The for loop iterates over ```some_sequence``` and performs ```statements(s)``` at each iteration. That is, at each iteration the ```iterator_variable```  is updated to the next value in ```some_sequence```. As a concrete example, consider the loop:\n",
        "\n",
        "```python\n",
        "for i in [1,2,3,4]:\n",
        "    print(i*i)\n",
        "```\n",
        "\n",
        "Aquí, el bucle for se imprimirá en la pantalla cuatro veces; es decir, imprimirá ```1``` en la primera iteración del ciclo,```4``` en la segunda iteración,```9``` en la tercera y ```16``` en el cuarto. Por lo tanto, la instrucción de bucle for iterará sobre todos los elementos de la lista ```[1,2,3,4]```, y en cada iteración actualiza la variable iteradora ```i``` a la siguiente valor en la lista ```[1,2,3,4]```.\n",
        "\n",
        "Usemos un ciclo for en los datos de nuestro país obteniendo una lista de todas las claves en ```success_estimates```:\n"
      ]
    },
    {
      "cell_type": "code",
      "metadata": {
        "colab": {
          "base_uri": "https://localhost:8080/"
        },
        "id": "eb41lA4Q_tHQ",
        "outputId": "73cc0d8e-9715-4322-f017-46a78a22b2a4"
      },
      "source": [
        "country_name_list = list(success_estimates.keys())\n",
        "print(country_name_list)"
      ],
      "execution_count": null,
      "outputs": [
        {
          "name": "stdout",
          "output_type": "stream",
          "text": [
            "['Australia', 'France', 'Italy', 'Brazil', 'USA', 'England', 'Canada', 'Argentina', 'Greece', 'Morocco', 'Tunisia', 'Egypt', 'Jamaica', 'Switzerland', 'Germany']\n"
          ]
        }
      ]
    },
    {
      "cell_type": "markdown",
      "metadata": {
        "id": "dxedpUgy_wf2"
      },
      "source": [
        "Aquí podemos recorrer todos los elementos en ```country_name_list```, extraemos el valor correspondiente de ```success_estimates``` (que será del tipo list), y posteriormente tomamos la media de la lista. La impresión detallada lo guiará a través de la ejecución del bucle for."
      ]
    },
    {
      "cell_type": "markdown",
      "metadata": {
        "id": "jvJQrC1VpgGi"
      },
      "source": [
        "# Ejericicio 4\n",
        "\n",
        "Crear un loop que obtenga e imprima el promedio de la tasa de exito de cada pais"
      ]
    },
    {
      "cell_type": "code",
      "metadata": {
        "id": "FM4hM6wA_z7m"
      },
      "source": [
        "def promedio():\n",
        "  for i in success_estimates:\n",
        "      print(\"País:\", i)\n",
        "      print(\"Promedio: \",sum(success_estimates[i])/len(success_estimates[i]))\n",
        "      print(\"---------\")"
      ],
      "execution_count": null,
      "outputs": []
    },
    {
      "cell_type": "code",
      "metadata": {
        "colab": {
          "base_uri": "https://localhost:8080/"
        },
        "id": "nsZgxlGJqnuB",
        "outputId": "7c4ce828-cdd4-4fdb-ec0f-d5786dfe3931"
      },
      "source": [
        "promedio()"
      ],
      "execution_count": null,
      "outputs": [
        {
          "output_type": "stream",
          "text": [
            "País: Australia\n",
            "Promedio:  0.29500000000000004\n",
            "---------\n",
            "País: France\n",
            "Promedio:  0.655\n",
            "---------\n",
            "País: Italy\n",
            "Promedio:  0.6\n",
            "---------\n",
            "País: Brazil\n",
            "Promedio:  0.29\n",
            "---------\n",
            "País: USA\n",
            "Promedio:  0.3333333333333333\n",
            "---------\n",
            "País: England\n",
            "Promedio:  0.45\n",
            "---------\n",
            "País: Canada\n",
            "Promedio:  0.275\n",
            "---------\n",
            "País: Argentina\n",
            "Promedio:  0.22\n",
            "---------\n",
            "País: Greece\n",
            "Promedio:  0.61\n",
            "---------\n",
            "País: Morocco\n",
            "Promedio:  0.29\n",
            "---------\n",
            "País: Tunisia\n",
            "Promedio:  0.6200000000000001\n",
            "---------\n",
            "País: Egypt\n",
            "Promedio:  0.99\n",
            "---------\n",
            "País: Jamaica\n",
            "Promedio:  0.6566666666666666\n",
            "---------\n",
            "País: Switzerland\n",
            "Promedio:  0.7859999999999999\n",
            "---------\n",
            "País: Germany\n",
            "Promedio:  0.4333333333333333\n",
            "---------\n"
          ],
          "name": "stdout"
        }
      ]
    },
    {
      "cell_type": "markdown",
      "metadata": {
        "id": "rB01Uuq0AiJi"
      },
      "source": [
        "# Ejercicio 5\n",
        "Escribir un bucle for para calcular el mínimo y el máximo de la lista de estimaciones de éxito de cada país, imprimiendo cada uno de forma consecutiva como en el ejemplo de bucle for anterior."
      ]
    },
    {
      "cell_type": "code",
      "metadata": {
        "id": "4xXepow6AhmD"
      },
      "source": [
        "def Minmax():\n",
        "  for i in success_estimates:\n",
        "      print(\"País:\", i)\n",
        "      print(\"Minimo:\",min(success_estimates[i]),'y Máximo',max(success_estimates[i]))\n",
        "      print(\"---------\")\n"
      ],
      "execution_count": null,
      "outputs": []
    },
    {
      "cell_type": "code",
      "metadata": {
        "colab": {
          "base_uri": "https://localhost:8080/"
        },
        "id": "D0I5OSBmqtNZ",
        "outputId": "2456074b-2d30-47f8-a035-eb53aaff9af9"
      },
      "source": [
        "Minmax()"
      ],
      "execution_count": null,
      "outputs": [
        {
          "output_type": "stream",
          "text": [
            "País: Australia\n",
            "Minimo: 0.11 y Máximo 0.6\n",
            "---------\n",
            "País: France\n",
            "Minimo: 0.2 y Máximo 0.98\n",
            "---------\n",
            "País: Italy\n",
            "Minimo: 0.6 y Máximo 0.6\n",
            "---------\n",
            "País: Brazil\n",
            "Minimo: 0.22 y Máximo 0.43\n",
            "---------\n",
            "País: USA\n",
            "Minimo: 0.2 y Máximo 0.5\n",
            "---------\n",
            "País: England\n",
            "Minimo: 0.45 y Máximo 0.45\n",
            "---------\n",
            "País: Canada\n",
            "Minimo: 0.25 y Máximo 0.3\n",
            "---------\n",
            "País: Argentina\n",
            "Minimo: 0.22 y Máximo 0.22\n",
            "---------\n",
            "País: Greece\n",
            "Minimo: 0.15 y Máximo 0.99\n",
            "---------\n",
            "País: Morocco\n",
            "Minimo: 0.29 y Máximo 0.29\n",
            "---------\n",
            "País: Tunisia\n",
            "Minimo: 0.56 y Máximo 0.68\n",
            "---------\n",
            "País: Egypt\n",
            "Minimo: 0.99 y Máximo 0.99\n",
            "---------\n",
            "País: Jamaica\n",
            "Minimo: 0.61 y Máximo 0.71\n",
            "---------\n",
            "País: Switzerland\n",
            "Minimo: 0.51 y Máximo 0.99\n",
            "---------\n",
            "País: Germany\n",
            "Minimo: 0.36 y Máximo 0.49\n",
            "---------\n"
          ],
          "name": "stdout"
        }
      ]
    },
    {
      "cell_type": "markdown",
      "metadata": {
        "id": "aIV5RdQrAr1M"
      },
      "source": [
        "# Ejercicio 6\n",
        "Escriba el código para determinar el país con el mayor rango de estimaciones de éxito (es decir, la mayor diferencia entre la estimación más pequeña y la más grande para un país)."
      ]
    },
    {
      "cell_type": "code",
      "metadata": {
        "id": "1se-mViJAuPG"
      },
      "source": [
        ""
      ],
      "execution_count": null,
      "outputs": []
    },
    {
      "cell_type": "markdown",
      "metadata": {
        "id": "9S5rDBSEAz4-"
      },
      "source": [
        "## Uso de listas por comprensión para determinar la cantidad de estimaciones para cada país\n",
        "\n",
        "En el futuro, estamos interesados en conocer la cantidad de estimaciones de éxito disponibles para cada país. Python ofrece una forma concisa de lograr este objetivo mediante el uso de <b> listas por comprensión </b>.\n",
        "\n",
        "Las listas por comprensión le permiten a uno construir una lista de manera concisa. Echemos un vistazo a cómo funciona esto."
      ]
    },
    {
      "cell_type": "code",
      "metadata": {
        "colab": {
          "base_uri": "https://localhost:8080/"
        },
        "id": "P0r1U_MKA5d3",
        "outputId": "60c49ea2-b661-40ff-bc46-7b1cfea23fa4"
      },
      "source": [
        "key_name_list = [i for i in success_estimates] # loop sobre cada item  i en success_estimates y ponerlo en una lista\n",
        "key_name_list"
      ],
      "execution_count": null,
      "outputs": [
        {
          "data": {
            "text/plain": [
              "['Australia',\n",
              " 'France',\n",
              " 'Italy',\n",
              " 'Brazil',\n",
              " 'USA',\n",
              " 'England',\n",
              " 'Canada',\n",
              " 'Argentina',\n",
              " 'Greece',\n",
              " 'Morocco',\n",
              " 'Tunisia',\n",
              " 'Egypt',\n",
              " 'Jamaica',\n",
              " 'Switzerland',\n",
              " 'Germany']"
            ]
          },
          "execution_count": 27,
          "metadata": {
            "tags": []
          },
          "output_type": "execute_result"
        }
      ]
    },
    {
      "cell_type": "markdown",
      "metadata": {
        "id": "-loNMJI8BBK1"
      },
      "source": [
        "Aquí vemos que hemos hecho un bucle sobre cada clave del diccionario success_estimates (por lo tanto, cada país) y extraído el nombre del país, todo en una línea de código. También podemos acceder a los valores de cada clave en success_estimates."
      ]
    },
    {
      "cell_type": "code",
      "metadata": {
        "colab": {
          "base_uri": "https://localhost:8080/"
        },
        "id": "Hd9aHxC3BDKc",
        "outputId": "ec282984-9f39-4991-c5ff-afa83566d937"
      },
      "source": [
        "value_name_list = [success_estimates[i] for i in success_estimates] # loop sobre cada item i ensuccess_estimates y poner success_estimates[i] en la lista\n",
        "value_name_list"
      ],
      "execution_count": null,
      "outputs": [
        {
          "data": {
            "text/plain": [
              "[[0.6, 0.33, 0.11, 0.14],\n",
              " [0.66, 0.78, 0.98, 0.2],\n",
              " [0.6],\n",
              " [0.22, 0.22, 0.43],\n",
              " [0.2, 0.5, 0.3],\n",
              " [0.45],\n",
              " [0.25, 0.3],\n",
              " [0.22],\n",
              " [0.45, 0.66, 0.75, 0.99, 0.15, 0.66],\n",
              " [0.29],\n",
              " [0.68, 0.56],\n",
              " [0.99],\n",
              " [0.61, 0.65, 0.71],\n",
              " [0.73, 0.86, 0.84, 0.51, 0.99],\n",
              " [0.45, 0.49, 0.36]]"
            ]
          },
          "execution_count": 28,
          "metadata": {
            "tags": []
          },
          "output_type": "execute_result"
        }
      ]
    },
    {
      "cell_type": "markdown",
      "metadata": {
        "id": "4dpc0wd7BNIh"
      },
      "source": [
        "En la lista por comprensión anterior, cada valor de ```i``` es un nombre de país y el valor se devuelve cuando se llama a ```success_estimates [i]```. Vemos que esto es una forma efectiva y concisa de escribir un bucle for que crea una lista.\n",
        "\n",
        "Podemos usar esto para determinar rápidamente cuántas estimaciones de éxito están disponibles para cada país."
      ]
    },
    {
      "cell_type": "code",
      "metadata": {
        "colab": {
          "base_uri": "https://localhost:8080/"
        },
        "id": "PHJPFWi-BVXH",
        "outputId": "7cdcc626-aaa5-4687-ce05-0030e8fe1b69"
      },
      "source": [
        "[[i,len(success_estimates[i])] for i in success_estimates]"
      ],
      "execution_count": null,
      "outputs": [
        {
          "data": {
            "text/plain": [
              "[['Australia', 4],\n",
              " ['France', 4],\n",
              " ['Italy', 1],\n",
              " ['Brazil', 3],\n",
              " ['USA', 3],\n",
              " ['England', 1],\n",
              " ['Canada', 2],\n",
              " ['Argentina', 1],\n",
              " ['Greece', 6],\n",
              " ['Morocco', 1],\n",
              " ['Tunisia', 2],\n",
              " ['Egypt', 1],\n",
              " ['Jamaica', 3],\n",
              " ['Switzerland', 5],\n",
              " ['Germany', 3]]"
            ]
          },
          "execution_count": 29,
          "metadata": {
            "tags": []
          },
          "output_type": "execute_result"
        }
      ]
    },
    {
      "cell_type": "markdown",
      "metadata": {
        "id": "oaM-qYFjBbl2"
      },
      "source": [
        "# Ejercicio 7\n",
        "Utilizando listas por comprensión, escriba un script para crear una <b> lista de listas </b> llamada ```sum_squares_list```, donde cada elemento de la lista es una lista de dos elementos [nombre del país, valor]. El elemento de valor en la lista debe ser la suma de cuadrados de las estimaciones de éxito de ese país. Por ejemplo, un elemento de ```sum_squares_list``` debe ser para Jamaica, donde la lista de dos elementos es [Jamaica, 1.2987] (desde 1.2987 = 0.61^ 2 + 0.65^ 2 + 0.71^ 2)."
      ]
    },
    {
      "cell_type": "code",
      "metadata": {
        "id": "Kk3uYU19BinH"
      },
      "source": [
        ""
      ],
      "execution_count": null,
      "outputs": []
    },
    {
      "cell_type": "markdown",
      "metadata": {
        "id": "ZCVB0UiJBom6"
      },
      "source": [
        "# Ejercicio 8\n",
        "Nos gustaría determinar la distribución alrededor de la estimación de éxito promedio para cada país. Utilizando listas por comprensión, escriba un codigo que reste la estimación de éxito promedio para un país determinado de cada estimación de éxito para ese país. Almacene los resultados en una lista llamada ```remove_mean_list```. Redondea los valores a dos decimales. Su salida debe producir la siguiente lista de listas:\n",
        "\n",
        "\n",
        "```\n",
        "[['Australia', [0.3, 0.03, -0.19, -0.16]],\n",
        " ['France', [0.01, 0.12, 0.32, -0.46]],\n",
        " ['Italy', [0.0]],\n",
        " ['Brazil', [-0.07, -0.07, 0.14]],\n",
        " ['USA', [-0.13, 0.17, -0.03]],\n",
        " ['England', [0.0]],\n",
        " ['Canada', [-0.03, 0.02]],\n",
        " ['Argentina', [0.0]],\n",
        " ['Greece', [-0.16, 0.05, 0.14, 0.38, -0.46, 0.05]],\n",
        " ['Morocco', [0.0]],\n",
        " ['Tunisia', [0.06, -0.06]],\n",
        " ['Egypt', [0.0]],\n",
        " ['Jamaica', [-0.05, -0.01, 0.05]],\n",
        " ['Switzerland', [-0.06, 0.07, 0.05, -0.28, 0.2]],\n",
        " ['Germany', [0.02, 0.06, -0.07]]]\n",
        "```"
      ]
    },
    {
      "cell_type": "code",
      "metadata": {
        "id": "zmL9I-N1Bn8J"
      },
      "source": [
        ""
      ],
      "execution_count": null,
      "outputs": []
    },
    {
      "cell_type": "markdown",
      "metadata": {
        "id": "9j2l45uCCEvE"
      },
      "source": [
        "Según el análisis anterior, vemos que las estimaciones de éxito medio de los países varían ampliamente, desde el más bajo, Canadá = 0,275, hasta el más alto, Egipto = 0,99. Sin embargo, observe que la media de Egipto se calcula a partir de 1 estimación de éxito. ¿Confiamos en confiar en una única estimación como proxy de la estimación de éxito promedio?\n",
        "\n",
        "Dado que el proyecto de expansión global utilizará valiosos recursos de la empresa, decidimos que es mejor restringir nuestro análisis a países que tienen dos o más estimaciones de éxito. Para realizar esta tarea, usaremos una estructura de control en Python conocida como la <b> instrucción if ... elif ... else </b>. Sigue la estructura general.\n",
        "\n",
        "\n",
        "```python\n",
        "if test_expression_1:\n",
        "    block1_statement(s)\n",
        "elif test_expression_2:\n",
        "    block2_statement2(s)\n",
        "else:\n",
        "    block3_statement(s)\n",
        "```\n",
        "\n",
        "Aquí, ```test_expression_1``` y ```test_expression_2``` deben evaluarse como ```True``` o ```False```, un tipo <b>booleano</b> de Python. El tipo booleano está asociado con variables que son ```Verdadero``` o ```Falso```.\n",
        "\n",
        "Si ```test_expression_1``` es True, ```block1_statement(s)``` se ejecutará y las otras sentencias de bloque no. Si ```test_expression_1``` es False pero ```test_expression_2``` es True, entonces ```block2_statement2 (s)``` se ejecutará y los demás no. Finalmente, si ```test_expression_1``` y ``` test_expression_2``` son ambos falsos, entonces se ejecutará el ```block3_statement (s)``` de la sección else. Esta estructura condicional de una declaración if permite controlar el flujo del código Python.\n",
        "\n",
        "Usemos esto para filtrar los países que solo tienen una estimación de éxito.\n",
        "\n",
        "# Ejercicio 9\n",
        "Usaremos la declaración if anterior para eliminar los países con menos de una estimación de éxito. Para facilitar la visualización del resultado, almacenaremos las estimaciones medias de cada país en un nuevo diccionario ```country_means```."
      ]
    },
    {
      "cell_type": "code",
      "metadata": {
        "id": "v2xiYtRjCiiL"
      },
      "source": [
        ""
      ],
      "execution_count": null,
      "outputs": []
    },
    {
      "cell_type": "markdown",
      "metadata": {
        "id": "46RK-_awD2l2"
      },
      "source": [
        "Al observar las medias de países resultantes, notamos que el país con la mayor estimación de éxito medio es Suiza con 0,79, mientras que la estimación de éxito medio más baja es Canadá con 0,28."
      ]
    },
    {
      "cell_type": "markdown",
      "metadata": {
        "id": "12lXfLpvD6gR"
      },
      "source": [
        "# Ejercicio 10\n",
        "Después de revisar la política de la empresa sobre procedimientos estadísticos, observa que la empresa recomienda que todas las estimaciones (promedios, mínimos, máximos) deben tener al menos tres valores que contribuyan a la estadística de resumen. Escriba un ciclo for y use la estructura de la declaración if para seleccionar e imprimir las estimaciones de éxito promedio para los países que cumplen con esta política. Si el país no cumple con la política, escriba el nombre del país y \"*No cumple con la política de la empresa*\". Cada país debería aparecer en una nueva línea."
      ]
    },
    {
      "cell_type": "code",
      "metadata": {
        "id": "tCEHQ1vSD6G1"
      },
      "source": [
        ""
      ],
      "execution_count": null,
      "outputs": []
    },
    {
      "cell_type": "markdown",
      "metadata": {
        "id": "j1Yj6ajOEc27"
      },
      "source": [
        "# Ejercicio 11\n",
        "¿Cuál es otro enfoque para mejorar el problema de una muestra en algunos países? Piense en términos de los factores que impulsan la confianza en las decisiones comerciales basadas en datos.\n",
        "\n",
        "(a) Agrupe los países en regiones más grandes para asegurarse de que cada región tenga al menos una estimación\n",
        "\n",
        "(b) Solo elimine un país si sus estimaciones son muy grandes o muy pequeñas en comparación con otras estimaciones.\n",
        "\n",
        "(c) Utilice una estadística de resumen diferente para el análisis que no sea el valor promedio.\n",
        "\n",
        "(d) Revise por qué algunos países solo tienen una estimación y vea si se pueden obtener más datos para estos países.\n",
        "\n"
      ]
    },
    {
      "cell_type": "markdown",
      "metadata": {
        "id": "uvPF5lnWEuAy"
      },
      "source": [
        "Hemos utilizado bucles y estructuras de control para calcular estadísticas resumidas parciales para cada uno de los países. Pongamos todo junto para obtener una recomendación sobre qué país deberíamos elegir para ampliar los servicios de vuelos de lujo.\n",
        "\n",
        "# Ejercicio 12\n",
        "Escriba el código para imprimir el nombre de cada país y las estadísticas resumidas. Cada línea debe mostrar un país y las estadísticas resumidas correspondientes: Estimación mínima (flotante), Estimación promedio (flotante), Estimación máxima (flotante), Número de estimaciones (int), Cumple con la política de la empresa de al menos 3 estimaciones (bool). Por ejemplo, la línea para Francia aparecería como:\n",
        "\n",
        "```\n",
        "Country: France , Min: 0.2 , Average: 0.655 , Max: 0.98 , NumEst: 4 , MeetsPolicy: True\n",
        "```"
      ]
    },
    {
      "cell_type": "code",
      "metadata": {
        "id": "Fr-gF7MNE1gW"
      },
      "source": [
        ""
      ],
      "execution_count": null,
      "outputs": []
    },
    {
      "cell_type": "markdown",
      "metadata": {
        "id": "tAiPYFomFDJL"
      },
      "source": [
        "# Conclusiones\n",
        "\n",
        "Escribir_________________"
      ]
    }
  ]
}