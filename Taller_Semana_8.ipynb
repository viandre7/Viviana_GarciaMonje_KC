{
  "nbformat": 4,
  "nbformat_minor": 0,
  "metadata": {
    "colab": {
      "name": "Taller_Semana_8.ipynb",
      "provenance": [],
      "collapsed_sections": [
        "Qp7246-sbfrd"
      ],
      "include_colab_link": true
    },
    "kernelspec": {
      "name": "python3",
      "display_name": "Python 3"
    },
    "language_info": {
      "name": "python"
    }
  },
  "cells": [
    {
      "cell_type": "markdown",
      "metadata": {
        "id": "view-in-github",
        "colab_type": "text"
      },
      "source": [
        "<a href=\"https://colab.research.google.com/github/viandre7/Viviana_GarciaMonje_KC/blob/main/Taller_Semana_8.ipynb\" target=\"_parent\"><img src=\"https://colab.research.google.com/assets/colab-badge.svg\" alt=\"Open In Colab\"/></a>"
      ]
    },
    {
      "cell_type": "markdown",
      "metadata": {
        "id": "HiO0cyNoX15M"
      },
      "source": [
        "#**1. TALLER SEMANA 8**\n",
        "\n"
      ]
    },
    {
      "cell_type": "markdown",
      "metadata": {
        "id": "vwWtPsj9ale7"
      },
      "source": [
        "## **1.1 BREAST CANCER (CLASIFICASIÖN)**\n"
      ]
    },
    {
      "cell_type": "markdown",
      "metadata": {
        "id": "Qp7246-sbfrd"
      },
      "source": [
        "### **1.1.1 Notación**\n",
        "\n",
        "**1) ID number** (Se elimina)\n",
        "\n",
        "**2) Diagnosis** (M = malignant, B = benign) \n",
        "Ten real-valued features are computed for each cell nucleus:\n",
        "\n",
        "**a) radius** (mean of distances from center to points on the perimeter)\n",
        "\n",
        "**b) texture** (standard deviation of gray-scale values)\n",
        "\n",
        "**c) perimeter**\n",
        "\n",
        "**d) area**\n",
        "\n",
        "**e) smoothness** (local variation in radius lengths)\n",
        "\n",
        "**f) compactness** (perimeter^2 / area - 1.0)\n",
        "\n",
        "**g) concavity** (severity of concave portions of the contour)\n",
        "\n",
        "**h) concave points** (number of concave portions of the contour)\n",
        "\n",
        "**i) symmetry**\n",
        "\n",
        "**j) fractal dimension** (\"coastline approximation\" - 1)"
      ]
    },
    {
      "cell_type": "markdown",
      "metadata": {
        "id": "eYTAvo0VcXIg"
      },
      "source": [
        "###**1.1.2 Conectarse al drive**\n"
      ]
    },
    {
      "cell_type": "code",
      "metadata": {
        "id": "Ml7Bt3NJXlGO",
        "colab": {
          "base_uri": "https://localhost:8080/"
        },
        "outputId": "96c3bf81-1282-4b27-fe7a-f714d7491e0b"
      },
      "source": [
        "from google.colab import drive\n",
        "import os\n",
        "drive.mount('/content/gdrive')\n",
        "# Establecer ruta de acceso en drive\n",
        "import os\n",
        "print(os.getcwd())\n",
        "os.chdir(\"/content/gdrive/My Drive\")"
      ],
      "execution_count": 2,
      "outputs": [
        {
          "output_type": "stream",
          "name": "stdout",
          "text": [
            "Mounted at /content/gdrive\n",
            "/content\n"
          ]
        }
      ]
    },
    {
      "cell_type": "code",
      "metadata": {
        "colab": {
          "base_uri": "https://localhost:8080/"
        },
        "id": "G4rNNHqWdSej",
        "outputId": "d5c57baf-11fd-4fd1-ed48-a91941772d16"
      },
      "source": [
        "%cd '/content/gdrive/MyDrive/G2 - Data Sience 2021 (Keycode)/Taller_Semana_8'"
      ],
      "execution_count": 3,
      "outputs": [
        {
          "output_type": "stream",
          "name": "stdout",
          "text": [
            "/content/gdrive/MyDrive/G2 - Data Sience 2021 (Keycode)/Taller_Semana_8\n"
          ]
        }
      ]
    },
    {
      "cell_type": "markdown",
      "metadata": {
        "id": "4Yz7km-xdi7U"
      },
      "source": [
        "###**1.1.3 Cargar paquetes**\n"
      ]
    },
    {
      "cell_type": "code",
      "metadata": {
        "id": "bAkPkIdj5wxB"
      },
      "source": [
        "#Carga de las librerías\n",
        "import urllib.request\n",
        "import pandas as pd\n",
        "\n",
        "from sklearn.ensemble import RandomForestClassifier\n",
        "from sklearn.tree import DecisionTreeClassifier\n",
        "from sklearn.metrics import accuracy_score\n",
        "\n"
      ],
      "execution_count": 43,
      "outputs": []
    },
    {
      "cell_type": "markdown",
      "metadata": {
        "id": "Nog6L1-zdwlb"
      },
      "source": [
        "###**1.1.4 Cargar los datos - Breast_cancer (Clasificación)**\n"
      ]
    },
    {
      "cell_type": "code",
      "metadata": {
        "colab": {
          "base_uri": "https://localhost:8080/",
          "height": 243
        },
        "id": "p3QvAzHId2JL",
        "outputId": "a1bf8724-6f20-4643-cc67-be50f437a247"
      },
      "source": [
        "data_cancer= pd.read_csv('Breast_cancer_1.csv',sep=',')\n",
        "data_cancer= data_cancer.drop(columns=['id'])\n",
        "data_cancer.head()"
      ],
      "execution_count": 14,
      "outputs": [
        {
          "output_type": "execute_result",
          "data": {
            "text/html": [
              "<div>\n",
              "<style scoped>\n",
              "    .dataframe tbody tr th:only-of-type {\n",
              "        vertical-align: middle;\n",
              "    }\n",
              "\n",
              "    .dataframe tbody tr th {\n",
              "        vertical-align: top;\n",
              "    }\n",
              "\n",
              "    .dataframe thead th {\n",
              "        text-align: right;\n",
              "    }\n",
              "</style>\n",
              "<table border=\"1\" class=\"dataframe\">\n",
              "  <thead>\n",
              "    <tr style=\"text-align: right;\">\n",
              "      <th></th>\n",
              "      <th>diagnosis</th>\n",
              "      <th>radius_mean</th>\n",
              "      <th>texture_mean</th>\n",
              "      <th>perimeter_mean</th>\n",
              "      <th>area_mean</th>\n",
              "      <th>smoothness_mean</th>\n",
              "      <th>compactness_mean</th>\n",
              "      <th>concavity_mean</th>\n",
              "      <th>concave points_mean</th>\n",
              "      <th>symmetry_mean</th>\n",
              "      <th>fractal_dimension_mean</th>\n",
              "      <th>radius_se</th>\n",
              "      <th>texture_se</th>\n",
              "      <th>perimeter_se</th>\n",
              "      <th>area_se</th>\n",
              "      <th>smoothness_se</th>\n",
              "      <th>compactness_se</th>\n",
              "      <th>concavity_se</th>\n",
              "      <th>concave points_se</th>\n",
              "      <th>symmetry_se</th>\n",
              "      <th>fractal_dimension_se</th>\n",
              "      <th>radius_worst</th>\n",
              "      <th>texture_worst</th>\n",
              "      <th>perimeter_worst</th>\n",
              "      <th>area_worst</th>\n",
              "      <th>smoothness_worst</th>\n",
              "      <th>compactness_worst</th>\n",
              "      <th>concavity_worst</th>\n",
              "      <th>concave points_worst</th>\n",
              "      <th>symmetry_worst</th>\n",
              "      <th>fractal_dimension_worst</th>\n",
              "      <th>Unnamed: 32</th>\n",
              "    </tr>\n",
              "  </thead>\n",
              "  <tbody>\n",
              "    <tr>\n",
              "      <th>0</th>\n",
              "      <td>M</td>\n",
              "      <td>17.99</td>\n",
              "      <td>10.38</td>\n",
              "      <td>122.80</td>\n",
              "      <td>1001.0</td>\n",
              "      <td>0.11840</td>\n",
              "      <td>0.27760</td>\n",
              "      <td>0.3001</td>\n",
              "      <td>0.14710</td>\n",
              "      <td>0.2419</td>\n",
              "      <td>0.07871</td>\n",
              "      <td>1.0950</td>\n",
              "      <td>0.9053</td>\n",
              "      <td>8.589</td>\n",
              "      <td>153.40</td>\n",
              "      <td>0.006399</td>\n",
              "      <td>0.04904</td>\n",
              "      <td>0.05373</td>\n",
              "      <td>0.01587</td>\n",
              "      <td>0.03003</td>\n",
              "      <td>0.006193</td>\n",
              "      <td>25.38</td>\n",
              "      <td>17.33</td>\n",
              "      <td>184.60</td>\n",
              "      <td>2019.0</td>\n",
              "      <td>0.1622</td>\n",
              "      <td>0.6656</td>\n",
              "      <td>0.7119</td>\n",
              "      <td>0.2654</td>\n",
              "      <td>0.4601</td>\n",
              "      <td>0.11890</td>\n",
              "      <td>NaN</td>\n",
              "    </tr>\n",
              "    <tr>\n",
              "      <th>1</th>\n",
              "      <td>M</td>\n",
              "      <td>20.57</td>\n",
              "      <td>17.77</td>\n",
              "      <td>132.90</td>\n",
              "      <td>1326.0</td>\n",
              "      <td>0.08474</td>\n",
              "      <td>0.07864</td>\n",
              "      <td>0.0869</td>\n",
              "      <td>0.07017</td>\n",
              "      <td>0.1812</td>\n",
              "      <td>0.05667</td>\n",
              "      <td>0.5435</td>\n",
              "      <td>0.7339</td>\n",
              "      <td>3.398</td>\n",
              "      <td>74.08</td>\n",
              "      <td>0.005225</td>\n",
              "      <td>0.01308</td>\n",
              "      <td>0.01860</td>\n",
              "      <td>0.01340</td>\n",
              "      <td>0.01389</td>\n",
              "      <td>0.003532</td>\n",
              "      <td>24.99</td>\n",
              "      <td>23.41</td>\n",
              "      <td>158.80</td>\n",
              "      <td>1956.0</td>\n",
              "      <td>0.1238</td>\n",
              "      <td>0.1866</td>\n",
              "      <td>0.2416</td>\n",
              "      <td>0.1860</td>\n",
              "      <td>0.2750</td>\n",
              "      <td>0.08902</td>\n",
              "      <td>NaN</td>\n",
              "    </tr>\n",
              "    <tr>\n",
              "      <th>2</th>\n",
              "      <td>M</td>\n",
              "      <td>19.69</td>\n",
              "      <td>21.25</td>\n",
              "      <td>130.00</td>\n",
              "      <td>1203.0</td>\n",
              "      <td>0.10960</td>\n",
              "      <td>0.15990</td>\n",
              "      <td>0.1974</td>\n",
              "      <td>0.12790</td>\n",
              "      <td>0.2069</td>\n",
              "      <td>0.05999</td>\n",
              "      <td>0.7456</td>\n",
              "      <td>0.7869</td>\n",
              "      <td>4.585</td>\n",
              "      <td>94.03</td>\n",
              "      <td>0.006150</td>\n",
              "      <td>0.04006</td>\n",
              "      <td>0.03832</td>\n",
              "      <td>0.02058</td>\n",
              "      <td>0.02250</td>\n",
              "      <td>0.004571</td>\n",
              "      <td>23.57</td>\n",
              "      <td>25.53</td>\n",
              "      <td>152.50</td>\n",
              "      <td>1709.0</td>\n",
              "      <td>0.1444</td>\n",
              "      <td>0.4245</td>\n",
              "      <td>0.4504</td>\n",
              "      <td>0.2430</td>\n",
              "      <td>0.3613</td>\n",
              "      <td>0.08758</td>\n",
              "      <td>NaN</td>\n",
              "    </tr>\n",
              "    <tr>\n",
              "      <th>3</th>\n",
              "      <td>M</td>\n",
              "      <td>11.42</td>\n",
              "      <td>20.38</td>\n",
              "      <td>77.58</td>\n",
              "      <td>386.1</td>\n",
              "      <td>0.14250</td>\n",
              "      <td>0.28390</td>\n",
              "      <td>0.2414</td>\n",
              "      <td>0.10520</td>\n",
              "      <td>0.2597</td>\n",
              "      <td>0.09744</td>\n",
              "      <td>0.4956</td>\n",
              "      <td>1.1560</td>\n",
              "      <td>3.445</td>\n",
              "      <td>27.23</td>\n",
              "      <td>0.009110</td>\n",
              "      <td>0.07458</td>\n",
              "      <td>0.05661</td>\n",
              "      <td>0.01867</td>\n",
              "      <td>0.05963</td>\n",
              "      <td>0.009208</td>\n",
              "      <td>14.91</td>\n",
              "      <td>26.50</td>\n",
              "      <td>98.87</td>\n",
              "      <td>567.7</td>\n",
              "      <td>0.2098</td>\n",
              "      <td>0.8663</td>\n",
              "      <td>0.6869</td>\n",
              "      <td>0.2575</td>\n",
              "      <td>0.6638</td>\n",
              "      <td>0.17300</td>\n",
              "      <td>NaN</td>\n",
              "    </tr>\n",
              "    <tr>\n",
              "      <th>4</th>\n",
              "      <td>M</td>\n",
              "      <td>20.29</td>\n",
              "      <td>14.34</td>\n",
              "      <td>135.10</td>\n",
              "      <td>1297.0</td>\n",
              "      <td>0.10030</td>\n",
              "      <td>0.13280</td>\n",
              "      <td>0.1980</td>\n",
              "      <td>0.10430</td>\n",
              "      <td>0.1809</td>\n",
              "      <td>0.05883</td>\n",
              "      <td>0.7572</td>\n",
              "      <td>0.7813</td>\n",
              "      <td>5.438</td>\n",
              "      <td>94.44</td>\n",
              "      <td>0.011490</td>\n",
              "      <td>0.02461</td>\n",
              "      <td>0.05688</td>\n",
              "      <td>0.01885</td>\n",
              "      <td>0.01756</td>\n",
              "      <td>0.005115</td>\n",
              "      <td>22.54</td>\n",
              "      <td>16.67</td>\n",
              "      <td>152.20</td>\n",
              "      <td>1575.0</td>\n",
              "      <td>0.1374</td>\n",
              "      <td>0.2050</td>\n",
              "      <td>0.4000</td>\n",
              "      <td>0.1625</td>\n",
              "      <td>0.2364</td>\n",
              "      <td>0.07678</td>\n",
              "      <td>NaN</td>\n",
              "    </tr>\n",
              "  </tbody>\n",
              "</table>\n",
              "</div>"
            ],
            "text/plain": [
              "  diagnosis  radius_mean  ...  fractal_dimension_worst  Unnamed: 32\n",
              "0         M        17.99  ...                  0.11890          NaN\n",
              "1         M        20.57  ...                  0.08902          NaN\n",
              "2         M        19.69  ...                  0.08758          NaN\n",
              "3         M        11.42  ...                  0.17300          NaN\n",
              "4         M        20.29  ...                  0.07678          NaN\n",
              "\n",
              "[5 rows x 32 columns]"
            ]
          },
          "metadata": {},
          "execution_count": 14
        }
      ]
    },
    {
      "cell_type": "markdown",
      "metadata": {
        "id": "iVMHDJXdraGk"
      },
      "source": [
        "**Nota** \n",
        "\n",
        "Eliminamos la columna id, ya que no nos aporta en nada, sumado a que estos modelos no deben incluir dicha columna para su análisis"
      ]
    },
    {
      "cell_type": "code",
      "metadata": {
        "colab": {
          "base_uri": "https://localhost:8080/"
        },
        "id": "cDqPypr6Ce1x",
        "outputId": "35bb3a62-1617-4042-9a0a-2e5eb3c3cc8c"
      },
      "source": [
        "data_cancer.shape"
      ],
      "execution_count": 6,
      "outputs": [
        {
          "output_type": "execute_result",
          "data": {
            "text/plain": [
              "(569, 32)"
            ]
          },
          "metadata": {},
          "execution_count": 6
        }
      ]
    },
    {
      "cell_type": "markdown",
      "metadata": {
        "id": "hdt-6mDP5bte"
      },
      "source": [
        "###**1.1.5 Remmplazar datos en diagnosis**"
      ]
    },
    {
      "cell_type": "code",
      "metadata": {
        "colab": {
          "base_uri": "https://localhost:8080/",
          "height": 243
        },
        "id": "21ECMyKNzIax",
        "outputId": "ba4a2aa1-753a-4a42-9b81-d6106ddd5421"
      },
      "source": [
        "data_cancer['diagnosis1']=data_cancer.diagnosis.replace(to_replace=['B', 'M'], value=[0, 1])\n",
        "data_cancer.head()"
      ],
      "execution_count": 15,
      "outputs": [
        {
          "output_type": "execute_result",
          "data": {
            "text/html": [
              "<div>\n",
              "<style scoped>\n",
              "    .dataframe tbody tr th:only-of-type {\n",
              "        vertical-align: middle;\n",
              "    }\n",
              "\n",
              "    .dataframe tbody tr th {\n",
              "        vertical-align: top;\n",
              "    }\n",
              "\n",
              "    .dataframe thead th {\n",
              "        text-align: right;\n",
              "    }\n",
              "</style>\n",
              "<table border=\"1\" class=\"dataframe\">\n",
              "  <thead>\n",
              "    <tr style=\"text-align: right;\">\n",
              "      <th></th>\n",
              "      <th>diagnosis</th>\n",
              "      <th>radius_mean</th>\n",
              "      <th>texture_mean</th>\n",
              "      <th>perimeter_mean</th>\n",
              "      <th>area_mean</th>\n",
              "      <th>smoothness_mean</th>\n",
              "      <th>compactness_mean</th>\n",
              "      <th>concavity_mean</th>\n",
              "      <th>concave points_mean</th>\n",
              "      <th>symmetry_mean</th>\n",
              "      <th>fractal_dimension_mean</th>\n",
              "      <th>radius_se</th>\n",
              "      <th>texture_se</th>\n",
              "      <th>perimeter_se</th>\n",
              "      <th>area_se</th>\n",
              "      <th>smoothness_se</th>\n",
              "      <th>compactness_se</th>\n",
              "      <th>concavity_se</th>\n",
              "      <th>concave points_se</th>\n",
              "      <th>symmetry_se</th>\n",
              "      <th>fractal_dimension_se</th>\n",
              "      <th>radius_worst</th>\n",
              "      <th>texture_worst</th>\n",
              "      <th>perimeter_worst</th>\n",
              "      <th>area_worst</th>\n",
              "      <th>smoothness_worst</th>\n",
              "      <th>compactness_worst</th>\n",
              "      <th>concavity_worst</th>\n",
              "      <th>concave points_worst</th>\n",
              "      <th>symmetry_worst</th>\n",
              "      <th>fractal_dimension_worst</th>\n",
              "      <th>Unnamed: 32</th>\n",
              "      <th>diagnosis1</th>\n",
              "    </tr>\n",
              "  </thead>\n",
              "  <tbody>\n",
              "    <tr>\n",
              "      <th>0</th>\n",
              "      <td>M</td>\n",
              "      <td>17.99</td>\n",
              "      <td>10.38</td>\n",
              "      <td>122.80</td>\n",
              "      <td>1001.0</td>\n",
              "      <td>0.11840</td>\n",
              "      <td>0.27760</td>\n",
              "      <td>0.3001</td>\n",
              "      <td>0.14710</td>\n",
              "      <td>0.2419</td>\n",
              "      <td>0.07871</td>\n",
              "      <td>1.0950</td>\n",
              "      <td>0.9053</td>\n",
              "      <td>8.589</td>\n",
              "      <td>153.40</td>\n",
              "      <td>0.006399</td>\n",
              "      <td>0.04904</td>\n",
              "      <td>0.05373</td>\n",
              "      <td>0.01587</td>\n",
              "      <td>0.03003</td>\n",
              "      <td>0.006193</td>\n",
              "      <td>25.38</td>\n",
              "      <td>17.33</td>\n",
              "      <td>184.60</td>\n",
              "      <td>2019.0</td>\n",
              "      <td>0.1622</td>\n",
              "      <td>0.6656</td>\n",
              "      <td>0.7119</td>\n",
              "      <td>0.2654</td>\n",
              "      <td>0.4601</td>\n",
              "      <td>0.11890</td>\n",
              "      <td>NaN</td>\n",
              "      <td>1</td>\n",
              "    </tr>\n",
              "    <tr>\n",
              "      <th>1</th>\n",
              "      <td>M</td>\n",
              "      <td>20.57</td>\n",
              "      <td>17.77</td>\n",
              "      <td>132.90</td>\n",
              "      <td>1326.0</td>\n",
              "      <td>0.08474</td>\n",
              "      <td>0.07864</td>\n",
              "      <td>0.0869</td>\n",
              "      <td>0.07017</td>\n",
              "      <td>0.1812</td>\n",
              "      <td>0.05667</td>\n",
              "      <td>0.5435</td>\n",
              "      <td>0.7339</td>\n",
              "      <td>3.398</td>\n",
              "      <td>74.08</td>\n",
              "      <td>0.005225</td>\n",
              "      <td>0.01308</td>\n",
              "      <td>0.01860</td>\n",
              "      <td>0.01340</td>\n",
              "      <td>0.01389</td>\n",
              "      <td>0.003532</td>\n",
              "      <td>24.99</td>\n",
              "      <td>23.41</td>\n",
              "      <td>158.80</td>\n",
              "      <td>1956.0</td>\n",
              "      <td>0.1238</td>\n",
              "      <td>0.1866</td>\n",
              "      <td>0.2416</td>\n",
              "      <td>0.1860</td>\n",
              "      <td>0.2750</td>\n",
              "      <td>0.08902</td>\n",
              "      <td>NaN</td>\n",
              "      <td>1</td>\n",
              "    </tr>\n",
              "    <tr>\n",
              "      <th>2</th>\n",
              "      <td>M</td>\n",
              "      <td>19.69</td>\n",
              "      <td>21.25</td>\n",
              "      <td>130.00</td>\n",
              "      <td>1203.0</td>\n",
              "      <td>0.10960</td>\n",
              "      <td>0.15990</td>\n",
              "      <td>0.1974</td>\n",
              "      <td>0.12790</td>\n",
              "      <td>0.2069</td>\n",
              "      <td>0.05999</td>\n",
              "      <td>0.7456</td>\n",
              "      <td>0.7869</td>\n",
              "      <td>4.585</td>\n",
              "      <td>94.03</td>\n",
              "      <td>0.006150</td>\n",
              "      <td>0.04006</td>\n",
              "      <td>0.03832</td>\n",
              "      <td>0.02058</td>\n",
              "      <td>0.02250</td>\n",
              "      <td>0.004571</td>\n",
              "      <td>23.57</td>\n",
              "      <td>25.53</td>\n",
              "      <td>152.50</td>\n",
              "      <td>1709.0</td>\n",
              "      <td>0.1444</td>\n",
              "      <td>0.4245</td>\n",
              "      <td>0.4504</td>\n",
              "      <td>0.2430</td>\n",
              "      <td>0.3613</td>\n",
              "      <td>0.08758</td>\n",
              "      <td>NaN</td>\n",
              "      <td>1</td>\n",
              "    </tr>\n",
              "    <tr>\n",
              "      <th>3</th>\n",
              "      <td>M</td>\n",
              "      <td>11.42</td>\n",
              "      <td>20.38</td>\n",
              "      <td>77.58</td>\n",
              "      <td>386.1</td>\n",
              "      <td>0.14250</td>\n",
              "      <td>0.28390</td>\n",
              "      <td>0.2414</td>\n",
              "      <td>0.10520</td>\n",
              "      <td>0.2597</td>\n",
              "      <td>0.09744</td>\n",
              "      <td>0.4956</td>\n",
              "      <td>1.1560</td>\n",
              "      <td>3.445</td>\n",
              "      <td>27.23</td>\n",
              "      <td>0.009110</td>\n",
              "      <td>0.07458</td>\n",
              "      <td>0.05661</td>\n",
              "      <td>0.01867</td>\n",
              "      <td>0.05963</td>\n",
              "      <td>0.009208</td>\n",
              "      <td>14.91</td>\n",
              "      <td>26.50</td>\n",
              "      <td>98.87</td>\n",
              "      <td>567.7</td>\n",
              "      <td>0.2098</td>\n",
              "      <td>0.8663</td>\n",
              "      <td>0.6869</td>\n",
              "      <td>0.2575</td>\n",
              "      <td>0.6638</td>\n",
              "      <td>0.17300</td>\n",
              "      <td>NaN</td>\n",
              "      <td>1</td>\n",
              "    </tr>\n",
              "    <tr>\n",
              "      <th>4</th>\n",
              "      <td>M</td>\n",
              "      <td>20.29</td>\n",
              "      <td>14.34</td>\n",
              "      <td>135.10</td>\n",
              "      <td>1297.0</td>\n",
              "      <td>0.10030</td>\n",
              "      <td>0.13280</td>\n",
              "      <td>0.1980</td>\n",
              "      <td>0.10430</td>\n",
              "      <td>0.1809</td>\n",
              "      <td>0.05883</td>\n",
              "      <td>0.7572</td>\n",
              "      <td>0.7813</td>\n",
              "      <td>5.438</td>\n",
              "      <td>94.44</td>\n",
              "      <td>0.011490</td>\n",
              "      <td>0.02461</td>\n",
              "      <td>0.05688</td>\n",
              "      <td>0.01885</td>\n",
              "      <td>0.01756</td>\n",
              "      <td>0.005115</td>\n",
              "      <td>22.54</td>\n",
              "      <td>16.67</td>\n",
              "      <td>152.20</td>\n",
              "      <td>1575.0</td>\n",
              "      <td>0.1374</td>\n",
              "      <td>0.2050</td>\n",
              "      <td>0.4000</td>\n",
              "      <td>0.1625</td>\n",
              "      <td>0.2364</td>\n",
              "      <td>0.07678</td>\n",
              "      <td>NaN</td>\n",
              "      <td>1</td>\n",
              "    </tr>\n",
              "  </tbody>\n",
              "</table>\n",
              "</div>"
            ],
            "text/plain": [
              "  diagnosis  radius_mean  ...  Unnamed: 32  diagnosis1\n",
              "0         M        17.99  ...          NaN           1\n",
              "1         M        20.57  ...          NaN           1\n",
              "2         M        19.69  ...          NaN           1\n",
              "3         M        11.42  ...          NaN           1\n",
              "4         M        20.29  ...          NaN           1\n",
              "\n",
              "[5 rows x 33 columns]"
            ]
          },
          "metadata": {},
          "execution_count": 15
        }
      ]
    },
    {
      "cell_type": "code",
      "metadata": {
        "id": "nsUQA-5n5CQ1"
      },
      "source": [
        "data_cancer.drop(['diagnosis', 'Unnamed: 32'], axis = 'columns', inplace=True)"
      ],
      "execution_count": 16,
      "outputs": []
    },
    {
      "cell_type": "markdown",
      "metadata": {
        "id": "x_VelcIXrrQl"
      },
      "source": [
        "**Nota** \n",
        "\n",
        "Creamos una columna nueva. diagnosis1, para guardar los datos de la columna diagnosis que vamos a reemplazar (M,B) por 0 y 1, donde 0 es Benigno y 1 es Maligno, posteriormente eliminamos la colomna diagnosis ya que no la necesitamos, y la columna Unnamed pues no nos aporta nada."
      ]
    },
    {
      "cell_type": "code",
      "metadata": {
        "colab": {
          "base_uri": "https://localhost:8080/",
          "height": 243
        },
        "id": "tpIImk6PGlC1",
        "outputId": "a273981e-7d64-4f8a-86e1-9635adbe4c39"
      },
      "source": [
        "data_cancer.head()"
      ],
      "execution_count": 17,
      "outputs": [
        {
          "output_type": "execute_result",
          "data": {
            "text/html": [
              "<div>\n",
              "<style scoped>\n",
              "    .dataframe tbody tr th:only-of-type {\n",
              "        vertical-align: middle;\n",
              "    }\n",
              "\n",
              "    .dataframe tbody tr th {\n",
              "        vertical-align: top;\n",
              "    }\n",
              "\n",
              "    .dataframe thead th {\n",
              "        text-align: right;\n",
              "    }\n",
              "</style>\n",
              "<table border=\"1\" class=\"dataframe\">\n",
              "  <thead>\n",
              "    <tr style=\"text-align: right;\">\n",
              "      <th></th>\n",
              "      <th>radius_mean</th>\n",
              "      <th>texture_mean</th>\n",
              "      <th>perimeter_mean</th>\n",
              "      <th>area_mean</th>\n",
              "      <th>smoothness_mean</th>\n",
              "      <th>compactness_mean</th>\n",
              "      <th>concavity_mean</th>\n",
              "      <th>concave points_mean</th>\n",
              "      <th>symmetry_mean</th>\n",
              "      <th>fractal_dimension_mean</th>\n",
              "      <th>radius_se</th>\n",
              "      <th>texture_se</th>\n",
              "      <th>perimeter_se</th>\n",
              "      <th>area_se</th>\n",
              "      <th>smoothness_se</th>\n",
              "      <th>compactness_se</th>\n",
              "      <th>concavity_se</th>\n",
              "      <th>concave points_se</th>\n",
              "      <th>symmetry_se</th>\n",
              "      <th>fractal_dimension_se</th>\n",
              "      <th>radius_worst</th>\n",
              "      <th>texture_worst</th>\n",
              "      <th>perimeter_worst</th>\n",
              "      <th>area_worst</th>\n",
              "      <th>smoothness_worst</th>\n",
              "      <th>compactness_worst</th>\n",
              "      <th>concavity_worst</th>\n",
              "      <th>concave points_worst</th>\n",
              "      <th>symmetry_worst</th>\n",
              "      <th>fractal_dimension_worst</th>\n",
              "      <th>diagnosis1</th>\n",
              "    </tr>\n",
              "  </thead>\n",
              "  <tbody>\n",
              "    <tr>\n",
              "      <th>0</th>\n",
              "      <td>17.99</td>\n",
              "      <td>10.38</td>\n",
              "      <td>122.80</td>\n",
              "      <td>1001.0</td>\n",
              "      <td>0.11840</td>\n",
              "      <td>0.27760</td>\n",
              "      <td>0.3001</td>\n",
              "      <td>0.14710</td>\n",
              "      <td>0.2419</td>\n",
              "      <td>0.07871</td>\n",
              "      <td>1.0950</td>\n",
              "      <td>0.9053</td>\n",
              "      <td>8.589</td>\n",
              "      <td>153.40</td>\n",
              "      <td>0.006399</td>\n",
              "      <td>0.04904</td>\n",
              "      <td>0.05373</td>\n",
              "      <td>0.01587</td>\n",
              "      <td>0.03003</td>\n",
              "      <td>0.006193</td>\n",
              "      <td>25.38</td>\n",
              "      <td>17.33</td>\n",
              "      <td>184.60</td>\n",
              "      <td>2019.0</td>\n",
              "      <td>0.1622</td>\n",
              "      <td>0.6656</td>\n",
              "      <td>0.7119</td>\n",
              "      <td>0.2654</td>\n",
              "      <td>0.4601</td>\n",
              "      <td>0.11890</td>\n",
              "      <td>1</td>\n",
              "    </tr>\n",
              "    <tr>\n",
              "      <th>1</th>\n",
              "      <td>20.57</td>\n",
              "      <td>17.77</td>\n",
              "      <td>132.90</td>\n",
              "      <td>1326.0</td>\n",
              "      <td>0.08474</td>\n",
              "      <td>0.07864</td>\n",
              "      <td>0.0869</td>\n",
              "      <td>0.07017</td>\n",
              "      <td>0.1812</td>\n",
              "      <td>0.05667</td>\n",
              "      <td>0.5435</td>\n",
              "      <td>0.7339</td>\n",
              "      <td>3.398</td>\n",
              "      <td>74.08</td>\n",
              "      <td>0.005225</td>\n",
              "      <td>0.01308</td>\n",
              "      <td>0.01860</td>\n",
              "      <td>0.01340</td>\n",
              "      <td>0.01389</td>\n",
              "      <td>0.003532</td>\n",
              "      <td>24.99</td>\n",
              "      <td>23.41</td>\n",
              "      <td>158.80</td>\n",
              "      <td>1956.0</td>\n",
              "      <td>0.1238</td>\n",
              "      <td>0.1866</td>\n",
              "      <td>0.2416</td>\n",
              "      <td>0.1860</td>\n",
              "      <td>0.2750</td>\n",
              "      <td>0.08902</td>\n",
              "      <td>1</td>\n",
              "    </tr>\n",
              "    <tr>\n",
              "      <th>2</th>\n",
              "      <td>19.69</td>\n",
              "      <td>21.25</td>\n",
              "      <td>130.00</td>\n",
              "      <td>1203.0</td>\n",
              "      <td>0.10960</td>\n",
              "      <td>0.15990</td>\n",
              "      <td>0.1974</td>\n",
              "      <td>0.12790</td>\n",
              "      <td>0.2069</td>\n",
              "      <td>0.05999</td>\n",
              "      <td>0.7456</td>\n",
              "      <td>0.7869</td>\n",
              "      <td>4.585</td>\n",
              "      <td>94.03</td>\n",
              "      <td>0.006150</td>\n",
              "      <td>0.04006</td>\n",
              "      <td>0.03832</td>\n",
              "      <td>0.02058</td>\n",
              "      <td>0.02250</td>\n",
              "      <td>0.004571</td>\n",
              "      <td>23.57</td>\n",
              "      <td>25.53</td>\n",
              "      <td>152.50</td>\n",
              "      <td>1709.0</td>\n",
              "      <td>0.1444</td>\n",
              "      <td>0.4245</td>\n",
              "      <td>0.4504</td>\n",
              "      <td>0.2430</td>\n",
              "      <td>0.3613</td>\n",
              "      <td>0.08758</td>\n",
              "      <td>1</td>\n",
              "    </tr>\n",
              "    <tr>\n",
              "      <th>3</th>\n",
              "      <td>11.42</td>\n",
              "      <td>20.38</td>\n",
              "      <td>77.58</td>\n",
              "      <td>386.1</td>\n",
              "      <td>0.14250</td>\n",
              "      <td>0.28390</td>\n",
              "      <td>0.2414</td>\n",
              "      <td>0.10520</td>\n",
              "      <td>0.2597</td>\n",
              "      <td>0.09744</td>\n",
              "      <td>0.4956</td>\n",
              "      <td>1.1560</td>\n",
              "      <td>3.445</td>\n",
              "      <td>27.23</td>\n",
              "      <td>0.009110</td>\n",
              "      <td>0.07458</td>\n",
              "      <td>0.05661</td>\n",
              "      <td>0.01867</td>\n",
              "      <td>0.05963</td>\n",
              "      <td>0.009208</td>\n",
              "      <td>14.91</td>\n",
              "      <td>26.50</td>\n",
              "      <td>98.87</td>\n",
              "      <td>567.7</td>\n",
              "      <td>0.2098</td>\n",
              "      <td>0.8663</td>\n",
              "      <td>0.6869</td>\n",
              "      <td>0.2575</td>\n",
              "      <td>0.6638</td>\n",
              "      <td>0.17300</td>\n",
              "      <td>1</td>\n",
              "    </tr>\n",
              "    <tr>\n",
              "      <th>4</th>\n",
              "      <td>20.29</td>\n",
              "      <td>14.34</td>\n",
              "      <td>135.10</td>\n",
              "      <td>1297.0</td>\n",
              "      <td>0.10030</td>\n",
              "      <td>0.13280</td>\n",
              "      <td>0.1980</td>\n",
              "      <td>0.10430</td>\n",
              "      <td>0.1809</td>\n",
              "      <td>0.05883</td>\n",
              "      <td>0.7572</td>\n",
              "      <td>0.7813</td>\n",
              "      <td>5.438</td>\n",
              "      <td>94.44</td>\n",
              "      <td>0.011490</td>\n",
              "      <td>0.02461</td>\n",
              "      <td>0.05688</td>\n",
              "      <td>0.01885</td>\n",
              "      <td>0.01756</td>\n",
              "      <td>0.005115</td>\n",
              "      <td>22.54</td>\n",
              "      <td>16.67</td>\n",
              "      <td>152.20</td>\n",
              "      <td>1575.0</td>\n",
              "      <td>0.1374</td>\n",
              "      <td>0.2050</td>\n",
              "      <td>0.4000</td>\n",
              "      <td>0.1625</td>\n",
              "      <td>0.2364</td>\n",
              "      <td>0.07678</td>\n",
              "      <td>1</td>\n",
              "    </tr>\n",
              "  </tbody>\n",
              "</table>\n",
              "</div>"
            ],
            "text/plain": [
              "   radius_mean  texture_mean  ...  fractal_dimension_worst  diagnosis1\n",
              "0        17.99         10.38  ...                  0.11890           1\n",
              "1        20.57         17.77  ...                  0.08902           1\n",
              "2        19.69         21.25  ...                  0.08758           1\n",
              "3        11.42         20.38  ...                  0.17300           1\n",
              "4        20.29         14.34  ...                  0.07678           1\n",
              "\n",
              "[5 rows x 31 columns]"
            ]
          },
          "metadata": {},
          "execution_count": 17
        }
      ]
    },
    {
      "cell_type": "code",
      "metadata": {
        "id": "NsAfkUgh6HyG"
      },
      "source": [
        "data_cancer.isnull().sum()"
      ],
      "execution_count": null,
      "outputs": []
    },
    {
      "cell_type": "code",
      "metadata": {
        "colab": {
          "base_uri": "https://localhost:8080/"
        },
        "id": "7Va2irhmrSpI",
        "outputId": "1ba54b1e-70e0-4a39-de4e-73153ef05c1f"
      },
      "source": [
        "data_cancer.shape"
      ],
      "execution_count": 19,
      "outputs": [
        {
          "output_type": "execute_result",
          "data": {
            "text/plain": [
              "(569, 31)"
            ]
          },
          "metadata": {},
          "execution_count": 19
        }
      ]
    },
    {
      "cell_type": "markdown",
      "metadata": {
        "id": "J6SIO1ut6UDX"
      },
      "source": [
        "**NOTA**\n",
        "\n",
        "El dataset se compone de 31 columnas de las cuales 30 corresponden a variables independientes, que usaremos para predecir.\n",
        "\n",
        "diagnosis1 es la variable a predecir. Todas las variables son numéricas, ya sea enteras o reales y no tiene valores nulos."
      ]
    },
    {
      "cell_type": "markdown",
      "metadata": {
        "id": "N_D7q5nEeinc"
      },
      "source": [
        "###**1.1.6 Graficos**"
      ]
    },
    {
      "cell_type": "code",
      "metadata": {
        "id": "2VjKE_brjFZ2"
      },
      "source": [
        ""
      ],
      "execution_count": null,
      "outputs": []
    },
    {
      "cell_type": "markdown",
      "metadata": {
        "id": "yXHEgvwZ8PkT"
      },
      "source": [
        "###**1.1.7 Definir la matriz de diseño (X) y el vector respuesta (y)**"
      ]
    },
    {
      "cell_type": "code",
      "metadata": {
        "id": "3Lji2x5cLY9N"
      },
      "source": [
        "X = data_cancer.drop([\"diagnosis1\"], axis=1) # Tomar todas las columnas excepto la ultima\n",
        "y = data_cancer[\"diagnosis1\"] # Tomar el vector respuesta (ultima columna)"
      ],
      "execution_count": 52,
      "outputs": []
    },
    {
      "cell_type": "code",
      "metadata": {
        "colab": {
          "base_uri": "https://localhost:8080/",
          "height": 461
        },
        "id": "ydRTqLnM2wn5",
        "outputId": "54e3f225-0d66-462b-d25c-cce36a9eb781"
      },
      "source": [
        "X"
      ],
      "execution_count": 53,
      "outputs": [
        {
          "output_type": "execute_result",
          "data": {
            "text/html": [
              "<div>\n",
              "<style scoped>\n",
              "    .dataframe tbody tr th:only-of-type {\n",
              "        vertical-align: middle;\n",
              "    }\n",
              "\n",
              "    .dataframe tbody tr th {\n",
              "        vertical-align: top;\n",
              "    }\n",
              "\n",
              "    .dataframe thead th {\n",
              "        text-align: right;\n",
              "    }\n",
              "</style>\n",
              "<table border=\"1\" class=\"dataframe\">\n",
              "  <thead>\n",
              "    <tr style=\"text-align: right;\">\n",
              "      <th></th>\n",
              "      <th>radius_mean</th>\n",
              "      <th>texture_mean</th>\n",
              "      <th>perimeter_mean</th>\n",
              "      <th>area_mean</th>\n",
              "      <th>smoothness_mean</th>\n",
              "      <th>compactness_mean</th>\n",
              "      <th>concavity_mean</th>\n",
              "      <th>concave points_mean</th>\n",
              "      <th>symmetry_mean</th>\n",
              "      <th>fractal_dimension_mean</th>\n",
              "      <th>radius_se</th>\n",
              "      <th>texture_se</th>\n",
              "      <th>perimeter_se</th>\n",
              "      <th>area_se</th>\n",
              "      <th>smoothness_se</th>\n",
              "      <th>compactness_se</th>\n",
              "      <th>concavity_se</th>\n",
              "      <th>concave points_se</th>\n",
              "      <th>symmetry_se</th>\n",
              "      <th>fractal_dimension_se</th>\n",
              "      <th>radius_worst</th>\n",
              "      <th>texture_worst</th>\n",
              "      <th>perimeter_worst</th>\n",
              "      <th>area_worst</th>\n",
              "      <th>smoothness_worst</th>\n",
              "      <th>compactness_worst</th>\n",
              "      <th>concavity_worst</th>\n",
              "      <th>concave points_worst</th>\n",
              "      <th>symmetry_worst</th>\n",
              "      <th>fractal_dimension_worst</th>\n",
              "    </tr>\n",
              "  </thead>\n",
              "  <tbody>\n",
              "    <tr>\n",
              "      <th>0</th>\n",
              "      <td>17.99</td>\n",
              "      <td>10.38</td>\n",
              "      <td>122.80</td>\n",
              "      <td>1001.0</td>\n",
              "      <td>0.11840</td>\n",
              "      <td>0.27760</td>\n",
              "      <td>0.30010</td>\n",
              "      <td>0.14710</td>\n",
              "      <td>0.2419</td>\n",
              "      <td>0.07871</td>\n",
              "      <td>1.0950</td>\n",
              "      <td>0.9053</td>\n",
              "      <td>8.589</td>\n",
              "      <td>153.40</td>\n",
              "      <td>0.006399</td>\n",
              "      <td>0.04904</td>\n",
              "      <td>0.05373</td>\n",
              "      <td>0.01587</td>\n",
              "      <td>0.03003</td>\n",
              "      <td>0.006193</td>\n",
              "      <td>25.380</td>\n",
              "      <td>17.33</td>\n",
              "      <td>184.60</td>\n",
              "      <td>2019.0</td>\n",
              "      <td>0.16220</td>\n",
              "      <td>0.66560</td>\n",
              "      <td>0.7119</td>\n",
              "      <td>0.2654</td>\n",
              "      <td>0.4601</td>\n",
              "      <td>0.11890</td>\n",
              "    </tr>\n",
              "    <tr>\n",
              "      <th>1</th>\n",
              "      <td>20.57</td>\n",
              "      <td>17.77</td>\n",
              "      <td>132.90</td>\n",
              "      <td>1326.0</td>\n",
              "      <td>0.08474</td>\n",
              "      <td>0.07864</td>\n",
              "      <td>0.08690</td>\n",
              "      <td>0.07017</td>\n",
              "      <td>0.1812</td>\n",
              "      <td>0.05667</td>\n",
              "      <td>0.5435</td>\n",
              "      <td>0.7339</td>\n",
              "      <td>3.398</td>\n",
              "      <td>74.08</td>\n",
              "      <td>0.005225</td>\n",
              "      <td>0.01308</td>\n",
              "      <td>0.01860</td>\n",
              "      <td>0.01340</td>\n",
              "      <td>0.01389</td>\n",
              "      <td>0.003532</td>\n",
              "      <td>24.990</td>\n",
              "      <td>23.41</td>\n",
              "      <td>158.80</td>\n",
              "      <td>1956.0</td>\n",
              "      <td>0.12380</td>\n",
              "      <td>0.18660</td>\n",
              "      <td>0.2416</td>\n",
              "      <td>0.1860</td>\n",
              "      <td>0.2750</td>\n",
              "      <td>0.08902</td>\n",
              "    </tr>\n",
              "    <tr>\n",
              "      <th>2</th>\n",
              "      <td>19.69</td>\n",
              "      <td>21.25</td>\n",
              "      <td>130.00</td>\n",
              "      <td>1203.0</td>\n",
              "      <td>0.10960</td>\n",
              "      <td>0.15990</td>\n",
              "      <td>0.19740</td>\n",
              "      <td>0.12790</td>\n",
              "      <td>0.2069</td>\n",
              "      <td>0.05999</td>\n",
              "      <td>0.7456</td>\n",
              "      <td>0.7869</td>\n",
              "      <td>4.585</td>\n",
              "      <td>94.03</td>\n",
              "      <td>0.006150</td>\n",
              "      <td>0.04006</td>\n",
              "      <td>0.03832</td>\n",
              "      <td>0.02058</td>\n",
              "      <td>0.02250</td>\n",
              "      <td>0.004571</td>\n",
              "      <td>23.570</td>\n",
              "      <td>25.53</td>\n",
              "      <td>152.50</td>\n",
              "      <td>1709.0</td>\n",
              "      <td>0.14440</td>\n",
              "      <td>0.42450</td>\n",
              "      <td>0.4504</td>\n",
              "      <td>0.2430</td>\n",
              "      <td>0.3613</td>\n",
              "      <td>0.08758</td>\n",
              "    </tr>\n",
              "    <tr>\n",
              "      <th>3</th>\n",
              "      <td>11.42</td>\n",
              "      <td>20.38</td>\n",
              "      <td>77.58</td>\n",
              "      <td>386.1</td>\n",
              "      <td>0.14250</td>\n",
              "      <td>0.28390</td>\n",
              "      <td>0.24140</td>\n",
              "      <td>0.10520</td>\n",
              "      <td>0.2597</td>\n",
              "      <td>0.09744</td>\n",
              "      <td>0.4956</td>\n",
              "      <td>1.1560</td>\n",
              "      <td>3.445</td>\n",
              "      <td>27.23</td>\n",
              "      <td>0.009110</td>\n",
              "      <td>0.07458</td>\n",
              "      <td>0.05661</td>\n",
              "      <td>0.01867</td>\n",
              "      <td>0.05963</td>\n",
              "      <td>0.009208</td>\n",
              "      <td>14.910</td>\n",
              "      <td>26.50</td>\n",
              "      <td>98.87</td>\n",
              "      <td>567.7</td>\n",
              "      <td>0.20980</td>\n",
              "      <td>0.86630</td>\n",
              "      <td>0.6869</td>\n",
              "      <td>0.2575</td>\n",
              "      <td>0.6638</td>\n",
              "      <td>0.17300</td>\n",
              "    </tr>\n",
              "    <tr>\n",
              "      <th>4</th>\n",
              "      <td>20.29</td>\n",
              "      <td>14.34</td>\n",
              "      <td>135.10</td>\n",
              "      <td>1297.0</td>\n",
              "      <td>0.10030</td>\n",
              "      <td>0.13280</td>\n",
              "      <td>0.19800</td>\n",
              "      <td>0.10430</td>\n",
              "      <td>0.1809</td>\n",
              "      <td>0.05883</td>\n",
              "      <td>0.7572</td>\n",
              "      <td>0.7813</td>\n",
              "      <td>5.438</td>\n",
              "      <td>94.44</td>\n",
              "      <td>0.011490</td>\n",
              "      <td>0.02461</td>\n",
              "      <td>0.05688</td>\n",
              "      <td>0.01885</td>\n",
              "      <td>0.01756</td>\n",
              "      <td>0.005115</td>\n",
              "      <td>22.540</td>\n",
              "      <td>16.67</td>\n",
              "      <td>152.20</td>\n",
              "      <td>1575.0</td>\n",
              "      <td>0.13740</td>\n",
              "      <td>0.20500</td>\n",
              "      <td>0.4000</td>\n",
              "      <td>0.1625</td>\n",
              "      <td>0.2364</td>\n",
              "      <td>0.07678</td>\n",
              "    </tr>\n",
              "    <tr>\n",
              "      <th>...</th>\n",
              "      <td>...</td>\n",
              "      <td>...</td>\n",
              "      <td>...</td>\n",
              "      <td>...</td>\n",
              "      <td>...</td>\n",
              "      <td>...</td>\n",
              "      <td>...</td>\n",
              "      <td>...</td>\n",
              "      <td>...</td>\n",
              "      <td>...</td>\n",
              "      <td>...</td>\n",
              "      <td>...</td>\n",
              "      <td>...</td>\n",
              "      <td>...</td>\n",
              "      <td>...</td>\n",
              "      <td>...</td>\n",
              "      <td>...</td>\n",
              "      <td>...</td>\n",
              "      <td>...</td>\n",
              "      <td>...</td>\n",
              "      <td>...</td>\n",
              "      <td>...</td>\n",
              "      <td>...</td>\n",
              "      <td>...</td>\n",
              "      <td>...</td>\n",
              "      <td>...</td>\n",
              "      <td>...</td>\n",
              "      <td>...</td>\n",
              "      <td>...</td>\n",
              "      <td>...</td>\n",
              "    </tr>\n",
              "    <tr>\n",
              "      <th>564</th>\n",
              "      <td>21.56</td>\n",
              "      <td>22.39</td>\n",
              "      <td>142.00</td>\n",
              "      <td>1479.0</td>\n",
              "      <td>0.11100</td>\n",
              "      <td>0.11590</td>\n",
              "      <td>0.24390</td>\n",
              "      <td>0.13890</td>\n",
              "      <td>0.1726</td>\n",
              "      <td>0.05623</td>\n",
              "      <td>1.1760</td>\n",
              "      <td>1.2560</td>\n",
              "      <td>7.673</td>\n",
              "      <td>158.70</td>\n",
              "      <td>0.010300</td>\n",
              "      <td>0.02891</td>\n",
              "      <td>0.05198</td>\n",
              "      <td>0.02454</td>\n",
              "      <td>0.01114</td>\n",
              "      <td>0.004239</td>\n",
              "      <td>25.450</td>\n",
              "      <td>26.40</td>\n",
              "      <td>166.10</td>\n",
              "      <td>2027.0</td>\n",
              "      <td>0.14100</td>\n",
              "      <td>0.21130</td>\n",
              "      <td>0.4107</td>\n",
              "      <td>0.2216</td>\n",
              "      <td>0.2060</td>\n",
              "      <td>0.07115</td>\n",
              "    </tr>\n",
              "    <tr>\n",
              "      <th>565</th>\n",
              "      <td>20.13</td>\n",
              "      <td>28.25</td>\n",
              "      <td>131.20</td>\n",
              "      <td>1261.0</td>\n",
              "      <td>0.09780</td>\n",
              "      <td>0.10340</td>\n",
              "      <td>0.14400</td>\n",
              "      <td>0.09791</td>\n",
              "      <td>0.1752</td>\n",
              "      <td>0.05533</td>\n",
              "      <td>0.7655</td>\n",
              "      <td>2.4630</td>\n",
              "      <td>5.203</td>\n",
              "      <td>99.04</td>\n",
              "      <td>0.005769</td>\n",
              "      <td>0.02423</td>\n",
              "      <td>0.03950</td>\n",
              "      <td>0.01678</td>\n",
              "      <td>0.01898</td>\n",
              "      <td>0.002498</td>\n",
              "      <td>23.690</td>\n",
              "      <td>38.25</td>\n",
              "      <td>155.00</td>\n",
              "      <td>1731.0</td>\n",
              "      <td>0.11660</td>\n",
              "      <td>0.19220</td>\n",
              "      <td>0.3215</td>\n",
              "      <td>0.1628</td>\n",
              "      <td>0.2572</td>\n",
              "      <td>0.06637</td>\n",
              "    </tr>\n",
              "    <tr>\n",
              "      <th>566</th>\n",
              "      <td>16.60</td>\n",
              "      <td>28.08</td>\n",
              "      <td>108.30</td>\n",
              "      <td>858.1</td>\n",
              "      <td>0.08455</td>\n",
              "      <td>0.10230</td>\n",
              "      <td>0.09251</td>\n",
              "      <td>0.05302</td>\n",
              "      <td>0.1590</td>\n",
              "      <td>0.05648</td>\n",
              "      <td>0.4564</td>\n",
              "      <td>1.0750</td>\n",
              "      <td>3.425</td>\n",
              "      <td>48.55</td>\n",
              "      <td>0.005903</td>\n",
              "      <td>0.03731</td>\n",
              "      <td>0.04730</td>\n",
              "      <td>0.01557</td>\n",
              "      <td>0.01318</td>\n",
              "      <td>0.003892</td>\n",
              "      <td>18.980</td>\n",
              "      <td>34.12</td>\n",
              "      <td>126.70</td>\n",
              "      <td>1124.0</td>\n",
              "      <td>0.11390</td>\n",
              "      <td>0.30940</td>\n",
              "      <td>0.3403</td>\n",
              "      <td>0.1418</td>\n",
              "      <td>0.2218</td>\n",
              "      <td>0.07820</td>\n",
              "    </tr>\n",
              "    <tr>\n",
              "      <th>567</th>\n",
              "      <td>20.60</td>\n",
              "      <td>29.33</td>\n",
              "      <td>140.10</td>\n",
              "      <td>1265.0</td>\n",
              "      <td>0.11780</td>\n",
              "      <td>0.27700</td>\n",
              "      <td>0.35140</td>\n",
              "      <td>0.15200</td>\n",
              "      <td>0.2397</td>\n",
              "      <td>0.07016</td>\n",
              "      <td>0.7260</td>\n",
              "      <td>1.5950</td>\n",
              "      <td>5.772</td>\n",
              "      <td>86.22</td>\n",
              "      <td>0.006522</td>\n",
              "      <td>0.06158</td>\n",
              "      <td>0.07117</td>\n",
              "      <td>0.01664</td>\n",
              "      <td>0.02324</td>\n",
              "      <td>0.006185</td>\n",
              "      <td>25.740</td>\n",
              "      <td>39.42</td>\n",
              "      <td>184.60</td>\n",
              "      <td>1821.0</td>\n",
              "      <td>0.16500</td>\n",
              "      <td>0.86810</td>\n",
              "      <td>0.9387</td>\n",
              "      <td>0.2650</td>\n",
              "      <td>0.4087</td>\n",
              "      <td>0.12400</td>\n",
              "    </tr>\n",
              "    <tr>\n",
              "      <th>568</th>\n",
              "      <td>7.76</td>\n",
              "      <td>24.54</td>\n",
              "      <td>47.92</td>\n",
              "      <td>181.0</td>\n",
              "      <td>0.05263</td>\n",
              "      <td>0.04362</td>\n",
              "      <td>0.00000</td>\n",
              "      <td>0.00000</td>\n",
              "      <td>0.1587</td>\n",
              "      <td>0.05884</td>\n",
              "      <td>0.3857</td>\n",
              "      <td>1.4280</td>\n",
              "      <td>2.548</td>\n",
              "      <td>19.15</td>\n",
              "      <td>0.007189</td>\n",
              "      <td>0.00466</td>\n",
              "      <td>0.00000</td>\n",
              "      <td>0.00000</td>\n",
              "      <td>0.02676</td>\n",
              "      <td>0.002783</td>\n",
              "      <td>9.456</td>\n",
              "      <td>30.37</td>\n",
              "      <td>59.16</td>\n",
              "      <td>268.6</td>\n",
              "      <td>0.08996</td>\n",
              "      <td>0.06444</td>\n",
              "      <td>0.0000</td>\n",
              "      <td>0.0000</td>\n",
              "      <td>0.2871</td>\n",
              "      <td>0.07039</td>\n",
              "    </tr>\n",
              "  </tbody>\n",
              "</table>\n",
              "<p>569 rows × 30 columns</p>\n",
              "</div>"
            ],
            "text/plain": [
              "     radius_mean  texture_mean  ...  symmetry_worst  fractal_dimension_worst\n",
              "0          17.99         10.38  ...          0.4601                  0.11890\n",
              "1          20.57         17.77  ...          0.2750                  0.08902\n",
              "2          19.69         21.25  ...          0.3613                  0.08758\n",
              "3          11.42         20.38  ...          0.6638                  0.17300\n",
              "4          20.29         14.34  ...          0.2364                  0.07678\n",
              "..           ...           ...  ...             ...                      ...\n",
              "564        21.56         22.39  ...          0.2060                  0.07115\n",
              "565        20.13         28.25  ...          0.2572                  0.06637\n",
              "566        16.60         28.08  ...          0.2218                  0.07820\n",
              "567        20.60         29.33  ...          0.4087                  0.12400\n",
              "568         7.76         24.54  ...          0.2871                  0.07039\n",
              "\n",
              "[569 rows x 30 columns]"
            ]
          },
          "metadata": {},
          "execution_count": 53
        }
      ]
    },
    {
      "cell_type": "code",
      "metadata": {
        "colab": {
          "base_uri": "https://localhost:8080/"
        },
        "id": "hmUYWhbNpXMi",
        "outputId": "9e9177a6-e7b4-47ea-f903-8f21d244f96b"
      },
      "source": [
        "y\n"
      ],
      "execution_count": 54,
      "outputs": [
        {
          "output_type": "execute_result",
          "data": {
            "text/plain": [
              "0      1\n",
              "1      1\n",
              "2      1\n",
              "3      1\n",
              "4      1\n",
              "      ..\n",
              "564    1\n",
              "565    1\n",
              "566    1\n",
              "567    1\n",
              "568    0\n",
              "Name: diagnosis1, Length: 569, dtype: int64"
            ]
          },
          "metadata": {},
          "execution_count": 54
        }
      ]
    },
    {
      "cell_type": "code",
      "metadata": {
        "colab": {
          "base_uri": "https://localhost:8080/"
        },
        "id": "1FE0mEGUpcM2",
        "outputId": "8cd69241-7f77-432b-950e-66c6318ba180"
      },
      "source": [
        "y.unique()"
      ],
      "execution_count": 55,
      "outputs": [
        {
          "output_type": "execute_result",
          "data": {
            "text/plain": [
              "array([1, 0])"
            ]
          },
          "metadata": {},
          "execution_count": 55
        }
      ]
    },
    {
      "cell_type": "markdown",
      "metadata": {
        "id": "ls-Rfjx-9h1U"
      },
      "source": [
        "###**1.1.8 Separar en train y tests**"
      ]
    },
    {
      "cell_type": "code",
      "metadata": {
        "id": "dDBVMKlWpigD"
      },
      "source": [
        "from sklearn.model_selection import train_test_split\n",
        "(X_train, X_test,y_train, y_test) = train_test_split(X,y,stratify=y,test_size=0.30,random_state=42)"
      ],
      "execution_count": 56,
      "outputs": []
    },
    {
      "cell_type": "markdown",
      "metadata": {
        "id": "ef2B4P19sTda"
      },
      "source": [
        "**Nota** Eligieremos el 70% de los datos para entrenamiento, y el 30% para test, de igual manera se le aplicara el random_state para seleccionar la semilla y los datos sean aleatoreos"
      ]
    },
    {
      "cell_type": "markdown",
      "metadata": {
        "id": "XkG2zmzx92iC"
      },
      "source": [
        "###**1.1.9 Entrenar el modelo - Random Forest**"
      ]
    },
    {
      "cell_type": "code",
      "metadata": {
        "colab": {
          "base_uri": "https://localhost:8080/"
        },
        "id": "BzpW9Klcp4uI",
        "outputId": "c0eec601-7d25-401f-ecda-8c8f2c219fde"
      },
      "source": [
        "model = RandomForestClassifier(random_state=42, n_estimators=100,\n",
        "class_weight=\"balanced\", max_features=\"log2\")\n",
        "model.fit(X_train, y_train) #Se ajusta a los datos de entrenamiento"
      ],
      "execution_count": 57,
      "outputs": [
        {
          "output_type": "execute_result",
          "data": {
            "text/plain": [
              "RandomForestClassifier(bootstrap=True, ccp_alpha=0.0, class_weight='balanced',\n",
              "                       criterion='gini', max_depth=None, max_features='log2',\n",
              "                       max_leaf_nodes=None, max_samples=None,\n",
              "                       min_impurity_decrease=0.0, min_impurity_split=None,\n",
              "                       min_samples_leaf=1, min_samples_split=2,\n",
              "                       min_weight_fraction_leaf=0.0, n_estimators=100,\n",
              "                       n_jobs=None, oob_score=False, random_state=42, verbose=0,\n",
              "                       warm_start=False)"
            ]
          },
          "metadata": {},
          "execution_count": 57
        }
      ]
    },
    {
      "cell_type": "markdown",
      "metadata": {
        "id": "i4OzAXpXy4Gi"
      },
      "source": [
        "**Nota** \n",
        "Numero de estimadores 100 (arboles), tipo balanceado para que no queden muchas muestras separadas en la seleccion, tomara un log2 para tomar la cantidad de columnas para cada arbol"
      ]
    },
    {
      "cell_type": "markdown",
      "metadata": {
        "id": "p9ktbktJ-YT4"
      },
      "source": [
        "###**1.1.10 Sacar predicciones**"
      ]
    },
    {
      "cell_type": "code",
      "metadata": {
        "id": "Y4hxb_wC4KY2"
      },
      "source": [
        "# import numpy as np\n",
        "# a=np.array(y_test)\n",
        "# a"
      ],
      "execution_count": null,
      "outputs": []
    },
    {
      "cell_type": "code",
      "metadata": {
        "colab": {
          "base_uri": "https://localhost:8080/"
        },
        "id": "SwQurOAnp-gQ",
        "outputId": "53160a9b-25eb-4f5d-fb4c-ce4744146dc4"
      },
      "source": [
        "y_test_pred = model.predict(X_test) #Prediccion en Test\n",
        "y_test_pred"
      ],
      "execution_count": 60,
      "outputs": [
        {
          "output_type": "execute_result",
          "data": {
            "text/plain": [
              "array([0, 0, 0, 0, 0, 0, 1, 0, 1, 0, 0, 1, 0, 0, 0, 0, 0, 1, 1, 1, 1, 1,\n",
              "       1, 0, 0, 1, 1, 1, 0, 0, 1, 0, 0, 1, 0, 0, 1, 1, 0, 1, 1, 0, 1, 0,\n",
              "       0, 1, 1, 0, 1, 0, 0, 0, 0, 0, 0, 0, 0, 0, 0, 1, 0, 0, 0, 1, 1, 1,\n",
              "       1, 0, 0, 0, 0, 0, 0, 0, 1, 0, 0, 1, 0, 0, 0, 0, 0, 1, 0, 1, 0, 0,\n",
              "       0, 0, 0, 1, 1, 1, 1, 1, 0, 0, 0, 0, 0, 1, 1, 0, 1, 0, 1, 1, 0, 1,\n",
              "       0, 1, 0, 0, 1, 0, 0, 1, 0, 0, 1, 1, 0, 1, 0, 1, 0, 0, 1, 0, 1, 0,\n",
              "       0, 1, 0, 1, 0, 0, 0, 0, 0, 1, 0, 0, 0, 0, 0, 0, 0, 1, 1, 0, 0, 0,\n",
              "       0, 0, 0, 0, 1, 0, 0, 0, 0, 0, 0, 0, 0, 1, 1, 0, 1])"
            ]
          },
          "metadata": {},
          "execution_count": 60
        }
      ]
    },
    {
      "cell_type": "markdown",
      "metadata": {
        "id": "eqMDtKqLqFnh"
      },
      "source": [
        "###**1.1.11 Calculamos el Acuracy**"
      ]
    },
    {
      "cell_type": "code",
      "metadata": {
        "colab": {
          "base_uri": "https://localhost:8080/"
        },
        "id": "QOCevhraqNEv",
        "outputId": "91e91ac6-cff1-44b2-b710-3bf709b6c658"
      },
      "source": [
        "# from sklearn.metrics import accuracy_score\n",
        "\n",
        "test_accuracy = accuracy_score(y_test, y_test_pred)\n",
        "print('% de aciertos sobre el set de evaluación:',test_accuracy)"
      ],
      "execution_count": 61,
      "outputs": [
        {
          "output_type": "stream",
          "name": "stdout",
          "text": [
            "% de aciertos sobre el set de evaluación: 0.9766081871345029\n"
          ]
        }
      ]
    },
    {
      "cell_type": "markdown",
      "metadata": {
        "id": "AV2WvlDp2Y2H"
      },
      "source": [
        "**Nota** obtenemos un acuracy de 0.97, es decir, una probabilidad de el 97% de los datos que predice sean correctos, de cada 100 datos que se clasifiquen el 97 quedaran bien clasificados, lo cual nos indica que es un muy buen modelo"
      ]
    },
    {
      "cell_type": "markdown",
      "metadata": {
        "id": "srdzlo6duewg"
      },
      "source": [
        "###**1.1.12 Calculamos la precisión**"
      ]
    },
    {
      "cell_type": "code",
      "metadata": {
        "colab": {
          "base_uri": "https://localhost:8080/"
        },
        "id": "h-HTukQKuj0j",
        "outputId": "8dafe583-cc63-4032-b520-0698c0370029"
      },
      "source": [
        "from sklearn.metrics import precision_score\n",
        "precision_score(y_test, y_test_pred) "
      ],
      "execution_count": 62,
      "outputs": [
        {
          "output_type": "execute_result",
          "data": {
            "text/plain": [
              "1.0"
            ]
          },
          "metadata": {},
          "execution_count": 62
        }
      ]
    },
    {
      "cell_type": "markdown",
      "metadata": {
        "id": "1AwsVkkp54dl"
      },
      "source": [
        "**Nota**  El porcentaje de muestras que se clasifican bien dentro de cada clase, es aproximadamente del %"
      ]
    },
    {
      "cell_type": "markdown",
      "metadata": {
        "id": "f-fNt15uxWjX"
      },
      "source": [
        "###**1.1.13 Matriz de confusion**"
      ]
    },
    {
      "cell_type": "code",
      "metadata": {
        "colab": {
          "base_uri": "https://localhost:8080/"
        },
        "id": "pLc25rtqxXUa",
        "outputId": "2b72c513-303c-40de-d36c-b4b92ee2b26b"
      },
      "source": [
        "from sklearn.metrics import confusion_matrix\n",
        "confusion_matrix(y_test, y_test_pred) "
      ],
      "execution_count": 63,
      "outputs": [
        {
          "output_type": "execute_result",
          "data": {
            "text/plain": [
              "array([[107,   0],\n",
              "       [  4,  60]])"
            ]
          },
          "metadata": {},
          "execution_count": 63
        }
      ]
    },
    {
      "cell_type": "markdown",
      "metadata": {
        "id": "HY72JNoK10NA"
      },
      "source": [
        "El modelo tuvo 107 verdaderos positivos, 0 falsos positivos, 60 verdaderos negativos y 4 falsos negativos, por lo que se puede concluir que el modelo funciona relativamente bien en cuanto a su clasificación"
      ]
    },
    {
      "cell_type": "markdown",
      "metadata": {
        "id": "myjZ_1ocuyCo"
      },
      "source": [
        "###**1.1.14 Calculamos el Recall**"
      ]
    },
    {
      "cell_type": "code",
      "metadata": {
        "colab": {
          "base_uri": "https://localhost:8080/"
        },
        "id": "l-2Ot0HiuxXZ",
        "outputId": "05b3659f-3b51-4262-e350-071c0eec9940"
      },
      "source": [
        "from sklearn.metrics import recall_score\n",
        "recall_score(y_test, y_test_pred) "
      ],
      "execution_count": 64,
      "outputs": [
        {
          "output_type": "execute_result",
          "data": {
            "text/plain": [
              "0.9375"
            ]
          },
          "metadata": {},
          "execution_count": 64
        }
      ]
    },
    {
      "cell_type": "markdown",
      "metadata": {
        "id": "Jbd5GzEs6QGK"
      },
      "source": [
        "**Nota** El modelo se adapta en un 93% a los datos al momento de clasificar"
      ]
    },
    {
      "cell_type": "markdown",
      "metadata": {
        "id": "ZUD0ZAoHvCMo"
      },
      "source": [
        "###**1.1.15 Calculamos f1 score**"
      ]
    },
    {
      "cell_type": "code",
      "metadata": {
        "colab": {
          "base_uri": "https://localhost:8080/"
        },
        "id": "zm5GZjggvRFA",
        "outputId": "6de3306f-4969-4a67-82da-2dcdd1ab6f6b"
      },
      "source": [
        "from sklearn.metrics import f1_score\n",
        "f1_score(y_test, y_test_pred) "
      ],
      "execution_count": 65,
      "outputs": [
        {
          "output_type": "execute_result",
          "data": {
            "text/plain": [
              "0.967741935483871"
            ]
          },
          "metadata": {},
          "execution_count": 65
        }
      ]
    },
    {
      "cell_type": "markdown",
      "metadata": {
        "id": "U5oOGE7zqXk_"
      },
      "source": [
        "###**1.1.16 Conclusiones**\n",
        "\n",
        "Todos los datos son similares, estan cerca, lo cual nos dice que el modelo es balanceado.\n",
        "\n",
        "Con el random forest, obtenemos un acuracy de 0.97, es decir, el 97% de los datos que predice es correcto, lo cual nos indica que es un muy buen modelo"
      ]
    },
    {
      "cell_type": "markdown",
      "metadata": {
        "id": "FUrziJki70QC"
      },
      "source": [
        "## **1.2 WINE (REGRESION)**\n"
      ]
    },
    {
      "cell_type": "code",
      "metadata": {
        "colab": {
          "base_uri": "https://localhost:8080/"
        },
        "id": "a7zP0CO_9HSG",
        "outputId": "904d5361-1305-4671-87bc-12742dde499e"
      },
      "source": [
        "import pandas                  as pd\n",
        "from   scipy import stats\n",
        "import numpy                   as np\n",
        "import matplotlib.pyplot       as plt\n",
        "import seaborn                 as sns\n",
        "import statsmodels.formula.api as sm\n",
        "from sklearn.linear_model import LinearRegression\n",
        "from sklearn.model_selection import train_test_split"
      ],
      "execution_count": 45,
      "outputs": [
        {
          "output_type": "stream",
          "name": "stderr",
          "text": [
            "/usr/local/lib/python3.7/dist-packages/statsmodels/tools/_testing.py:19: FutureWarning: pandas.util.testing is deprecated. Use the functions in the public API at pandas.testing instead.\n",
            "  import pandas.util.testing as tm\n"
          ]
        }
      ]
    },
    {
      "cell_type": "markdown",
      "metadata": {
        "id": "j8rgx_BR9Yg_"
      },
      "source": [
        "### **1.2.1 Notación**\n",
        "\n",
        "1) Alcohol\n",
        "\n",
        "2) Malic acid\n",
        "\n",
        "3) Ash\n",
        "\n",
        "4) Alcalinity of ash\n",
        "\n",
        "5) Magnesium\n",
        "\n",
        "6) Total phenols\n",
        "\n",
        "7) Flavanoids\n",
        "\n",
        "8) Nonflavanoid phenols\n",
        "\n",
        "9) Proanthocyanins\n",
        "\n",
        "10)Color intensity\n",
        "\n",
        "11)Hue\n",
        "\n",
        "12)OD280/OD315 of diluted wines\n",
        "\n",
        "13)Proline"
      ]
    },
    {
      "cell_type": "markdown",
      "metadata": {
        "id": "EkFS5CXfAIOK"
      },
      "source": [
        "### **1.2.2 Cargar los datos**"
      ]
    },
    {
      "cell_type": "code",
      "metadata": {
        "colab": {
          "base_uri": "https://localhost:8080/",
          "height": 206
        },
        "id": "Z2i1xsvW9MlV",
        "outputId": "87f3bf02-dbc8-4190-9dc0-3fcc15ed78e3"
      },
      "source": [
        "data_wine= pd.read_csv('wine_1.csv',sep=',')\n",
        "data_wine= data_wine.drop(columns=['Wine'])\n",
        "data_wine.head()"
      ],
      "execution_count": 35,
      "outputs": [
        {
          "output_type": "execute_result",
          "data": {
            "text/html": [
              "<div>\n",
              "<style scoped>\n",
              "    .dataframe tbody tr th:only-of-type {\n",
              "        vertical-align: middle;\n",
              "    }\n",
              "\n",
              "    .dataframe tbody tr th {\n",
              "        vertical-align: top;\n",
              "    }\n",
              "\n",
              "    .dataframe thead th {\n",
              "        text-align: right;\n",
              "    }\n",
              "</style>\n",
              "<table border=\"1\" class=\"dataframe\">\n",
              "  <thead>\n",
              "    <tr style=\"text-align: right;\">\n",
              "      <th></th>\n",
              "      <th>Alcohol</th>\n",
              "      <th>Malic.acid</th>\n",
              "      <th>Ash</th>\n",
              "      <th>Acl</th>\n",
              "      <th>Mg</th>\n",
              "      <th>Phenols</th>\n",
              "      <th>Flavanoids</th>\n",
              "      <th>Nonflavanoid.phenols</th>\n",
              "      <th>Proanth</th>\n",
              "      <th>Color.int</th>\n",
              "      <th>Hue</th>\n",
              "      <th>OD</th>\n",
              "      <th>Proline</th>\n",
              "    </tr>\n",
              "  </thead>\n",
              "  <tbody>\n",
              "    <tr>\n",
              "      <th>0</th>\n",
              "      <td>14.23</td>\n",
              "      <td>1.71</td>\n",
              "      <td>2.43</td>\n",
              "      <td>15.6</td>\n",
              "      <td>127</td>\n",
              "      <td>2.80</td>\n",
              "      <td>3.06</td>\n",
              "      <td>0.28</td>\n",
              "      <td>2.29</td>\n",
              "      <td>5.64</td>\n",
              "      <td>1.04</td>\n",
              "      <td>3.92</td>\n",
              "      <td>1065</td>\n",
              "    </tr>\n",
              "    <tr>\n",
              "      <th>1</th>\n",
              "      <td>13.20</td>\n",
              "      <td>1.78</td>\n",
              "      <td>2.14</td>\n",
              "      <td>11.2</td>\n",
              "      <td>100</td>\n",
              "      <td>2.65</td>\n",
              "      <td>2.76</td>\n",
              "      <td>0.26</td>\n",
              "      <td>1.28</td>\n",
              "      <td>4.38</td>\n",
              "      <td>1.05</td>\n",
              "      <td>3.40</td>\n",
              "      <td>1050</td>\n",
              "    </tr>\n",
              "    <tr>\n",
              "      <th>2</th>\n",
              "      <td>13.16</td>\n",
              "      <td>2.36</td>\n",
              "      <td>2.67</td>\n",
              "      <td>18.6</td>\n",
              "      <td>101</td>\n",
              "      <td>2.80</td>\n",
              "      <td>3.24</td>\n",
              "      <td>0.30</td>\n",
              "      <td>2.81</td>\n",
              "      <td>5.68</td>\n",
              "      <td>1.03</td>\n",
              "      <td>3.17</td>\n",
              "      <td>1185</td>\n",
              "    </tr>\n",
              "    <tr>\n",
              "      <th>3</th>\n",
              "      <td>14.37</td>\n",
              "      <td>1.95</td>\n",
              "      <td>2.50</td>\n",
              "      <td>16.8</td>\n",
              "      <td>113</td>\n",
              "      <td>3.85</td>\n",
              "      <td>3.49</td>\n",
              "      <td>0.24</td>\n",
              "      <td>2.18</td>\n",
              "      <td>7.80</td>\n",
              "      <td>0.86</td>\n",
              "      <td>3.45</td>\n",
              "      <td>1480</td>\n",
              "    </tr>\n",
              "    <tr>\n",
              "      <th>4</th>\n",
              "      <td>13.24</td>\n",
              "      <td>2.59</td>\n",
              "      <td>2.87</td>\n",
              "      <td>21.0</td>\n",
              "      <td>118</td>\n",
              "      <td>2.80</td>\n",
              "      <td>2.69</td>\n",
              "      <td>0.39</td>\n",
              "      <td>1.82</td>\n",
              "      <td>4.32</td>\n",
              "      <td>1.04</td>\n",
              "      <td>2.93</td>\n",
              "      <td>735</td>\n",
              "    </tr>\n",
              "  </tbody>\n",
              "</table>\n",
              "</div>"
            ],
            "text/plain": [
              "   Alcohol  Malic.acid   Ash   Acl  ...  Color.int   Hue    OD  Proline\n",
              "0    14.23        1.71  2.43  15.6  ...       5.64  1.04  3.92     1065\n",
              "1    13.20        1.78  2.14  11.2  ...       4.38  1.05  3.40     1050\n",
              "2    13.16        2.36  2.67  18.6  ...       5.68  1.03  3.17     1185\n",
              "3    14.37        1.95  2.50  16.8  ...       7.80  0.86  3.45     1480\n",
              "4    13.24        2.59  2.87  21.0  ...       4.32  1.04  2.93      735\n",
              "\n",
              "[5 rows x 13 columns]"
            ]
          },
          "metadata": {},
          "execution_count": 35
        }
      ]
    },
    {
      "cell_type": "markdown",
      "metadata": {
        "id": "B8AGJLpuvARO"
      },
      "source": [
        "Nota\n",
        "\n",
        "Eliminamos la columna wine, la cual contiene valores de 1,2,3, se considera que clasifica a los vinos en la categoria 1,2 o 3."
      ]
    },
    {
      "cell_type": "code",
      "metadata": {
        "colab": {
          "base_uri": "https://localhost:8080/"
        },
        "id": "lkxvr7dd_6Eb",
        "outputId": "9dc8b608-7d71-4c39-f79d-701b8f961eb4"
      },
      "source": [
        "data_wine.shape"
      ],
      "execution_count": 36,
      "outputs": [
        {
          "output_type": "execute_result",
          "data": {
            "text/plain": [
              "(178, 13)"
            ]
          },
          "metadata": {},
          "execution_count": 36
        }
      ]
    },
    {
      "cell_type": "code",
      "metadata": {
        "colab": {
          "base_uri": "https://localhost:8080/"
        },
        "id": "cLsSdD_vuvau",
        "outputId": "608f61b1-304d-4277-d24f-0ced57db2b97"
      },
      "source": [
        "data_wine.isnull().sum()"
      ],
      "execution_count": 37,
      "outputs": [
        {
          "output_type": "execute_result",
          "data": {
            "text/plain": [
              "Alcohol                 0\n",
              "Malic.acid              0\n",
              "Ash                     0\n",
              "Acl                     0\n",
              "Mg                      0\n",
              "Phenols                 0\n",
              "Flavanoids              0\n",
              "Nonflavanoid.phenols    0\n",
              "Proanth                 0\n",
              "Color.int               0\n",
              "Hue                     0\n",
              "OD                      0\n",
              "Proline                 0\n",
              "dtype: int64"
            ]
          },
          "metadata": {},
          "execution_count": 37
        }
      ]
    },
    {
      "cell_type": "markdown",
      "metadata": {
        "id": "0DTO0aZkuYPw"
      },
      "source": [
        "**NOTA**\n",
        "\n",
        "El dataset se compone de 13 columnas de las cuales 12 corresponden a variables independientes, que usaremos para predecir.\n",
        "\n",
        "Proline es la variable a predecir. Todas las variables son numéricas, ya sea enteras o reales y no tiene valores nulos."
      ]
    },
    {
      "cell_type": "markdown",
      "metadata": {
        "id": "RsTGD42yAAC6"
      },
      "source": [
        "### **1.2.3 Definir la matriz de diseño (X) y el vector respuesta (y)**"
      ]
    },
    {
      "cell_type": "code",
      "metadata": {
        "id": "m8iVNUu7AdRn"
      },
      "source": [
        "X=data_wine.iloc[:,:-1].values # Tomar todas las columnas excepto la ultima\n",
        "y= data_wine.iloc[:,-1].values # Tomar el vector respuesta (ultima columna)"
      ],
      "execution_count": 38,
      "outputs": []
    },
    {
      "cell_type": "code",
      "metadata": {
        "colab": {
          "base_uri": "https://localhost:8080/"
        },
        "id": "Hn21u32LAkBs",
        "outputId": "14bf9288-8eac-43c8-ecf2-01e5e401d279"
      },
      "source": [
        "print(X.shape)\n",
        "print(y.shape)"
      ],
      "execution_count": 39,
      "outputs": [
        {
          "output_type": "stream",
          "name": "stdout",
          "text": [
            "(178, 12)\n",
            "(178,)\n"
          ]
        }
      ]
    },
    {
      "cell_type": "code",
      "metadata": {
        "colab": {
          "base_uri": "https://localhost:8080/"
        },
        "id": "-dBv_u98BDAM",
        "outputId": "95b061fc-2b14-4505-a4fc-3601d059b3e5"
      },
      "source": [
        "X"
      ],
      "execution_count": 40,
      "outputs": [
        {
          "output_type": "execute_result",
          "data": {
            "text/plain": [
              "array([[14.23,  1.71,  2.43, ...,  5.64,  1.04,  3.92],\n",
              "       [13.2 ,  1.78,  2.14, ...,  4.38,  1.05,  3.4 ],\n",
              "       [13.16,  2.36,  2.67, ...,  5.68,  1.03,  3.17],\n",
              "       ...,\n",
              "       [13.27,  4.28,  2.26, ..., 10.2 ,  0.59,  1.56],\n",
              "       [13.17,  2.59,  2.37, ...,  9.3 ,  0.6 ,  1.62],\n",
              "       [14.13,  4.1 ,  2.74, ...,  9.2 ,  0.61,  1.6 ]])"
            ]
          },
          "metadata": {},
          "execution_count": 40
        }
      ]
    },
    {
      "cell_type": "markdown",
      "metadata": {
        "id": "-oMcdB4-AoI3"
      },
      "source": [
        "### **1.2.4 Normalizamos los datos, usando Standard scaler**\n",
        "\n",
        "Las variables quedarán entre -2 y 2"
      ]
    },
    {
      "cell_type": "code",
      "metadata": {
        "colab": {
          "base_uri": "https://localhost:8080/"
        },
        "id": "4K3dJI39A2zj",
        "outputId": "290b819b-4a14-4922-a765-d8e04aab7a35"
      },
      "source": [
        "from sklearn.preprocessing import StandardScaler\n",
        "X_n= StandardScaler().fit_transform(X)\n",
        "X_n"
      ],
      "execution_count": 41,
      "outputs": [
        {
          "output_type": "execute_result",
          "data": {
            "text/plain": [
              "array([[ 1.51861254, -0.5622498 ,  0.23205254, ...,  0.25171685,\n",
              "         0.36217728,  1.84791957],\n",
              "       [ 0.24628963, -0.49941338, -0.82799632, ..., -0.29332133,\n",
              "         0.40605066,  1.1134493 ],\n",
              "       [ 0.19687903,  0.02123125,  1.10933436, ...,  0.26901965,\n",
              "         0.31830389,  0.78858745],\n",
              "       ...,\n",
              "       [ 0.33275817,  1.74474449, -0.38935541, ...,  2.22423597,\n",
              "        -1.61212515, -1.48544548],\n",
              "       [ 0.20923168,  0.22769377,  0.01273209, ...,  1.83492299,\n",
              "        -1.56825176, -1.40069891],\n",
              "       [ 1.39508604,  1.58316512,  1.36520822, ...,  1.79166599,\n",
              "        -1.52437837, -1.42894777]])"
            ]
          },
          "metadata": {},
          "execution_count": 41
        }
      ]
    },
    {
      "cell_type": "code",
      "metadata": {
        "colab": {
          "base_uri": "https://localhost:8080/"
        },
        "id": "z9JvvSxjBLBt",
        "outputId": "41a23cc4-7956-4be3-9783-574c5f009347"
      },
      "source": [
        "y_1= np.transpose(np.array([y])) # Llevar a un vector vertical porque estaba como un vector horizontal\n",
        "y_1.shape"
      ],
      "execution_count": 46,
      "outputs": [
        {
          "output_type": "execute_result",
          "data": {
            "text/plain": [
              "(178, 1)"
            ]
          },
          "metadata": {},
          "execution_count": 46
        }
      ]
    },
    {
      "cell_type": "code",
      "metadata": {
        "colab": {
          "base_uri": "https://localhost:8080/"
        },
        "id": "YhLMEux7BN9i",
        "outputId": "d4fe74f7-dc1d-42e7-f8c1-96973cbbd878"
      },
      "source": [
        "y_n= StandardScaler().fit_transform(y_1) # Estandarizacion al vector y\n",
        "y_n"
      ],
      "execution_count": 47,
      "outputs": [
        {
          "output_type": "execute_result",
          "data": {
            "text/plain": [
              "array([[ 1.01300893],\n",
              "       [ 0.96524152],\n",
              "       [ 1.39514818],\n",
              "       [ 2.33457383],\n",
              "       [-0.03787401],\n",
              "       [ 2.23903902],\n",
              "       [ 1.72952002],\n",
              "       [ 1.74544249],\n",
              "       [ 0.94931905],\n",
              "       [ 0.94931905],\n",
              "       [ 2.43010864],\n",
              "       [ 1.69767508],\n",
              "       [ 1.82505483],\n",
              "       [ 1.28369089],\n",
              "       [ 2.54793491],\n",
              "       [ 1.79320989],\n",
              "       [ 1.69767508],\n",
              "       [ 1.22000102],\n",
              "       [ 2.97147258],\n",
              "       [ 0.3124203 ],\n",
              "       [ 0.10542821],\n",
              "       [ 0.07358327],\n",
              "       [ 0.91747411],\n",
              "       [ 0.85378424],\n",
              "       [ 0.3124203 ],\n",
              "       [ 0.2646529 ],\n",
              "       [ 1.42699311],\n",
              "       [ 1.71359755],\n",
              "       [ 0.53533487],\n",
              "       [ 0.91747411],\n",
              "       [ 1.71359755],\n",
              "       [ 2.44603111],\n",
              "       [ 0.7741719 ],\n",
              "       [ 1.55437286],\n",
              "       [ 1.10854374],\n",
              "       [ 0.55125733],\n",
              "       [ 0.42387759],\n",
              "       [ 1.14038868],\n",
              "       [ 0.86970671],\n",
              "       [ 0.04173834],\n",
              "       [ 0.15319562],\n",
              "       [ 0.91747411],\n",
              "       [ 1.10854374],\n",
              "       [-0.21302116],\n",
              "       [ 0.43980005],\n",
              "       [ 1.06077633],\n",
              "       [ 1.01300893],\n",
              "       [ 0.75824943],\n",
              "       [ 0.99708646],\n",
              "       [ 1.63398521],\n",
              "       [ 1.28369089],\n",
              "       [ 1.64990767],\n",
              "       [ 1.41107064],\n",
              "       [ 2.00020199],\n",
              "       [ 0.99708646],\n",
              "       [ 1.18815608],\n",
              "       [ 0.71048202],\n",
              "       [ 1.66583014],\n",
              "       [ 1.71359755],\n",
              "       [-0.72254016],\n",
              "       [-0.21302116],\n",
              "       [-0.94545472],\n",
              "       [-0.37224585],\n",
              "       [-1.04098953],\n",
              "       [-1.24798163],\n",
              "       [-0.21939015],\n",
              "       [-0.77986105],\n",
              "       [-0.7543851 ],\n",
              "       [ 0.0098934 ],\n",
              "       [-0.0920104 ],\n",
              "       [ 0.39203265],\n",
              "       [-1.07283447],\n",
              "       [-0.87539586],\n",
              "       [ 0.75824943],\n",
              "       [ 0.44298455],\n",
              "       [-1.01551358],\n",
              "       [-1.13015536],\n",
              "       [-0.78623004],\n",
              "       [ 0.0098934 ],\n",
              "       [-0.9040563 ],\n",
              "       [-1.49318765],\n",
              "       [-0.10474838],\n",
              "       [-0.37224585],\n",
              "       [-0.73846263],\n",
              "       [-0.72254016],\n",
              "       [-0.94545472],\n",
              "       [-0.8021525 ],\n",
              "       [-0.58879142],\n",
              "       [-0.21302116],\n",
              "       [-0.38816832],\n",
              "       [-0.84991991],\n",
              "       [-0.94545472],\n",
              "       [-0.8021525 ],\n",
              "       [-1.45497372],\n",
              "       [-1.27982657],\n",
              "       [ 0.60539373],\n",
              "       [-0.38816832],\n",
              "       [-1.01551358],\n",
              "       [-0.27671104],\n",
              "       [-1.08557245],\n",
              "       [-0.11748635],\n",
              "       [-0.58879142],\n",
              "       [-0.98366865],\n",
              "       [-1.056912  ],\n",
              "       [-0.23849711],\n",
              "       [-1.37536138],\n",
              "       [-0.7543851 ],\n",
              "       [-0.82444396],\n",
              "       [-1.38491486],\n",
              "       [-0.21302116],\n",
              "       [-0.58879142],\n",
              "       [-1.34351644],\n",
              "       [-0.44548921],\n",
              "       [-0.99640662],\n",
              "       [-1.15244682],\n",
              "       [-1.08238795],\n",
              "       [-0.8021525 ],\n",
              "       [-1.27982657],\n",
              "       [-1.19384523],\n",
              "       [-0.58242244],\n",
              "       [-0.38816832],\n",
              "       [-0.89768732],\n",
              "       [-1.21613669],\n",
              "       [-1.16836928],\n",
              "       [-1.16836928],\n",
              "       [-1.17473827],\n",
              "       [-1.25753511],\n",
              "       [-0.89450282],\n",
              "       [-1.28938005],\n",
              "       [-0.53147054],\n",
              "       [-0.37224585],\n",
              "       [-0.69069522],\n",
              "       [-0.59516041],\n",
              "       [-0.46778066],\n",
              "       [-0.30855597],\n",
              "       [-0.16525376],\n",
              "       [-0.08564141],\n",
              "       [-0.73846263],\n",
              "       [-0.53147054],\n",
              "       [-0.4996256 ],\n",
              "       [-0.46778066],\n",
              "       [ 0.10542821],\n",
              "       [-0.72254016],\n",
              "       [-0.62700535],\n",
              "       [ 0.34426524],\n",
              "       [ 0.2646529 ],\n",
              "       [-1.056912  ],\n",
              "       [-0.38816832],\n",
              "       [-0.30855597],\n",
              "       [-0.62700535],\n",
              "       [-0.78623004],\n",
              "       [-0.84991991],\n",
              "       [-1.02506707],\n",
              "       [-0.22894363],\n",
              "       [-0.34040091],\n",
              "       [-0.06971894],\n",
              "       [-0.84991991],\n",
              "       [ 0.42387759],\n",
              "       [-0.27671104],\n",
              "       [-0.40409079],\n",
              "       [-0.72254016],\n",
              "       [-0.21302116],\n",
              "       [-0.56331547],\n",
              "       [-0.22894363],\n",
              "       [-0.42001326],\n",
              "       [-0.72254016],\n",
              "       [-0.16525376],\n",
              "       [-0.19709869],\n",
              "       [ 0.0098934 ],\n",
              "       [-0.37224585],\n",
              "       [-0.7543851 ],\n",
              "       [-0.88176485],\n",
              "       [-0.27671104],\n",
              "       [-0.02195154],\n",
              "       [ 0.0098934 ],\n",
              "       [ 0.28057537],\n",
              "       [ 0.29649784],\n",
              "       [-0.59516041]])"
            ]
          },
          "metadata": {},
          "execution_count": 47
        }
      ]
    },
    {
      "cell_type": "code",
      "metadata": {
        "colab": {
          "base_uri": "https://localhost:8080/"
        },
        "id": "6PUIDV0hBTet",
        "outputId": "117581dd-5fd6-49bd-d601-359490825325"
      },
      "source": [
        "print('Shape de X',X_n.shape)\n",
        "print('Shape de y',y_n.shape)"
      ],
      "execution_count": 48,
      "outputs": [
        {
          "output_type": "stream",
          "name": "stdout",
          "text": [
            "Shape de X (178, 12)\n",
            "Shape de y (178, 1)\n"
          ]
        }
      ]
    },
    {
      "cell_type": "markdown",
      "metadata": {
        "id": "Zm45V23zBYwb"
      },
      "source": [
        "### **1.2.5 Separamos en entranamiento y test**"
      ]
    },
    {
      "cell_type": "code",
      "metadata": {
        "id": "fGh96RsWBo-J"
      },
      "source": [
        "X_train, X_test, y_train, y_test = train_test_split(X_n, y_n, test_size=0.25, random_state=42,shuffle=True)"
      ],
      "execution_count": 49,
      "outputs": []
    },
    {
      "cell_type": "markdown",
      "metadata": {
        "id": "sr3RJCW5vgMC"
      },
      "source": [
        "**Nota** Eligieremos el 70% de los datos para entrenamiento, y el 30% para test, de igual manera se le aplicara el random_state para seleccionar la semilla y los datos sean aleatoreos"
      ]
    },
    {
      "cell_type": "markdown",
      "metadata": {
        "id": "AWx9PpOWB5HI"
      },
      "source": [
        "### **1.2.6 Entrenamos el modelo**"
      ]
    },
    {
      "cell_type": "code",
      "metadata": {
        "colab": {
          "base_uri": "https://localhost:8080/"
        },
        "id": "tRsg87nMCAw7",
        "outputId": "5e487aa7-fb38-403b-c976-3b2d5ad63860"
      },
      "source": [
        "regressor = LinearRegression() #Creamos el modelo\n",
        "regressor.fit(X_train, y_train)"
      ],
      "execution_count": 50,
      "outputs": [
        {
          "output_type": "execute_result",
          "data": {
            "text/plain": [
              "LinearRegression(copy_X=True, fit_intercept=True, n_jobs=None, normalize=False)"
            ]
          },
          "metadata": {},
          "execution_count": 50
        }
      ]
    },
    {
      "cell_type": "markdown",
      "metadata": {
        "id": "6z6Pyr86CHNN"
      },
      "source": [
        "### **1.2.7 Analizamos los coeficientes**"
      ]
    },
    {
      "cell_type": "code",
      "metadata": {
        "colab": {
          "base_uri": "https://localhost:8080/"
        },
        "id": "ODR7QmwCCSCk",
        "outputId": "362c8775-f845-4055-aff9-d5ef87e7dc1e"
      },
      "source": [
        "#Recuperamos la intersección\n",
        "print(regressor.intercept_)"
      ],
      "execution_count": 51,
      "outputs": [
        {
          "output_type": "stream",
          "name": "stdout",
          "text": [
            "[-0.00115046]\n"
          ]
        }
      ]
    },
    {
      "cell_type": "markdown",
      "metadata": {
        "id": "OJUD4jTP9Ty7"
      },
      "source": [
        "Valor mínimo de Proline\n"
      ]
    },
    {
      "cell_type": "code",
      "metadata": {
        "colab": {
          "base_uri": "https://localhost:8080/"
        },
        "id": "bZaKO4Y-Co3h",
        "outputId": "f76b3602-298f-4b6e-bad1-c5c72a38c3cb"
      },
      "source": [
        "#Pendiente para cada una de las variables\n",
        "print(regressor.coef_)"
      ],
      "execution_count": 52,
      "outputs": [
        {
          "output_type": "stream",
          "name": "stdout",
          "text": [
            "[[ 0.30658283 -0.14064782  0.21899154 -0.29325455  0.10389822  0.09177859\n",
            "  -0.07767957 -0.01656427  0.07151682  0.22910699  0.07454604  0.13955565]]\n"
          ]
        }
      ]
    },
    {
      "cell_type": "markdown",
      "metadata": {
        "id": "zqnphm799qoS"
      },
      "source": [
        "Por cada unidad que aumente el Proline, las variables aumentarán en los valores de coef_ respectivamente"
      ]
    },
    {
      "cell_type": "code",
      "metadata": {
        "colab": {
          "base_uri": "https://localhost:8080/"
        },
        "id": "DfPWSZVNCq_K",
        "outputId": "9638f0ae-80e8-429d-833a-de1ea9e01b1d"
      },
      "source": [
        "regressor.coef_[0]"
      ],
      "execution_count": 53,
      "outputs": [
        {
          "output_type": "execute_result",
          "data": {
            "text/plain": [
              "array([ 0.30658283, -0.14064782,  0.21899154, -0.29325455,  0.10389822,\n",
              "        0.09177859, -0.07767957, -0.01656427,  0.07151682,  0.22910699,\n",
              "        0.07454604,  0.13955565])"
            ]
          },
          "metadata": {},
          "execution_count": 53
        }
      ]
    },
    {
      "cell_type": "code",
      "metadata": {
        "colab": {
          "base_uri": "https://localhost:8080/"
        },
        "id": "xDyXoSTHCvOk",
        "outputId": "24318371-81c5-44af-8e74-7b4410a4adb5"
      },
      "source": [
        "data_wine_x= data_wine.drop(columns=['Proline'])\n",
        "data_wine_x.columns"
      ],
      "execution_count": 55,
      "outputs": [
        {
          "output_type": "execute_result",
          "data": {
            "text/plain": [
              "Index(['Alcohol', 'Malic.acid', 'Ash', 'Acl', 'Mg', 'Phenols', 'Flavanoids',\n",
              "       'Nonflavanoid.phenols', 'Proanth', 'Color.int', 'Hue', 'OD'],\n",
              "      dtype='object')"
            ]
          },
          "metadata": {},
          "execution_count": 55
        }
      ]
    },
    {
      "cell_type": "markdown",
      "metadata": {
        "id": "R_SXuWyZCSWv"
      },
      "source": [
        "### **1.2.5 Calculamos los vectores de media y desviacion estandar**"
      ]
    },
    {
      "cell_type": "code",
      "metadata": {
        "colab": {
          "base_uri": "https://localhost:8080/"
        },
        "id": "B4oJGrQECYja",
        "outputId": "495b9e46-464b-4f42-ae19-bb65855cbdf3"
      },
      "source": [
        "np.mean(data_wine_x,axis=0)"
      ],
      "execution_count": 58,
      "outputs": [
        {
          "output_type": "execute_result",
          "data": {
            "text/plain": [
              "Alcohol                 13.000618\n",
              "Malic.acid               2.336348\n",
              "Ash                      2.366517\n",
              "Acl                     19.494944\n",
              "Mg                      99.741573\n",
              "Phenols                  2.295112\n",
              "Flavanoids               2.029270\n",
              "Nonflavanoid.phenols     0.361854\n",
              "Proanth                  1.590899\n",
              "Color.int                5.058090\n",
              "Hue                      0.957449\n",
              "OD                       2.611685\n",
              "dtype: float64"
            ]
          },
          "metadata": {},
          "execution_count": 58
        }
      ]
    },
    {
      "cell_type": "code",
      "metadata": {
        "colab": {
          "base_uri": "https://localhost:8080/"
        },
        "id": "ZKdodmA_CitN",
        "outputId": "16cc0155-ce9d-4ee8-dcda-77c3699cc84b"
      },
      "source": [
        "np.std(data_wine_x,axis=0)"
      ],
      "execution_count": 109,
      "outputs": [
        {
          "output_type": "execute_result",
          "data": {
            "text/plain": [
              "Wine                     0.772855\n",
              "Alcohol                  0.809543\n",
              "Malic.acid               1.114004\n",
              "Ash                      0.273572\n",
              "Acl                      3.330170\n",
              "Mg                      14.242308\n",
              "Phenols                  0.624091\n",
              "Flavanoids               0.996049\n",
              "Nonflavanoid.phenols     0.124103\n",
              "Proanth                  0.570749\n",
              "Color.int                2.311765\n",
              "Hue                      0.227929\n",
              "OD                       0.707993\n",
              "dtype: float64"
            ]
          },
          "metadata": {},
          "execution_count": 109
        }
      ]
    },
    {
      "cell_type": "code",
      "metadata": {
        "colab": {
          "base_uri": "https://localhost:8080/",
          "height": 457
        },
        "id": "YA0yJ6ocEHVb",
        "outputId": "2530a03a-2f8b-4475-b806-001604a5f976"
      },
      "source": [
        "df=pd.DataFrame(regressor.coef_[0], data_wine_x.columns, columns=['Coeficiente'])\n",
        "df['Medias']=np.mean(data_wine_x,axis=0)\n",
        "df['Desviacion']=np.std(data_wine_x,axis=0)\n",
        "df['Coef_final']=df.Medias + (df.Coeficiente*df.Desviacion) # Calculo del coeficiente sin normalizar\n",
        "df"
      ],
      "execution_count": 26,
      "outputs": [
        {
          "output_type": "execute_result",
          "data": {
            "text/html": [
              "<div>\n",
              "<style scoped>\n",
              "    .dataframe tbody tr th:only-of-type {\n",
              "        vertical-align: middle;\n",
              "    }\n",
              "\n",
              "    .dataframe tbody tr th {\n",
              "        vertical-align: top;\n",
              "    }\n",
              "\n",
              "    .dataframe thead th {\n",
              "        text-align: right;\n",
              "    }\n",
              "</style>\n",
              "<table border=\"1\" class=\"dataframe\">\n",
              "  <thead>\n",
              "    <tr style=\"text-align: right;\">\n",
              "      <th></th>\n",
              "      <th>Coeficiente</th>\n",
              "      <th>Medias</th>\n",
              "      <th>Desviacion</th>\n",
              "      <th>Coef_final</th>\n",
              "    </tr>\n",
              "  </thead>\n",
              "  <tbody>\n",
              "    <tr>\n",
              "      <th>Wine</th>\n",
              "      <td>-0.759907</td>\n",
              "      <td>1.938202</td>\n",
              "      <td>0.772855</td>\n",
              "      <td>1.350904</td>\n",
              "    </tr>\n",
              "    <tr>\n",
              "      <th>Alcohol</th>\n",
              "      <td>0.152939</td>\n",
              "      <td>13.000618</td>\n",
              "      <td>0.809543</td>\n",
              "      <td>13.124429</td>\n",
              "    </tr>\n",
              "    <tr>\n",
              "      <th>Malic.acid</th>\n",
              "      <td>-0.073977</td>\n",
              "      <td>2.336348</td>\n",
              "      <td>1.114004</td>\n",
              "      <td>2.253938</td>\n",
              "    </tr>\n",
              "    <tr>\n",
              "      <th>Ash</th>\n",
              "      <td>0.122225</td>\n",
              "      <td>2.366517</td>\n",
              "      <td>0.273572</td>\n",
              "      <td>2.399954</td>\n",
              "    </tr>\n",
              "    <tr>\n",
              "      <th>Acl</th>\n",
              "      <td>-0.085450</td>\n",
              "      <td>19.494944</td>\n",
              "      <td>3.330170</td>\n",
              "      <td>19.210381</td>\n",
              "    </tr>\n",
              "    <tr>\n",
              "      <th>Mg</th>\n",
              "      <td>0.080930</td>\n",
              "      <td>99.741573</td>\n",
              "      <td>14.242308</td>\n",
              "      <td>100.894203</td>\n",
              "    </tr>\n",
              "    <tr>\n",
              "      <th>Phenols</th>\n",
              "      <td>0.157384</td>\n",
              "      <td>2.295112</td>\n",
              "      <td>0.624091</td>\n",
              "      <td>2.393334</td>\n",
              "    </tr>\n",
              "    <tr>\n",
              "      <th>Flavanoids</th>\n",
              "      <td>-0.421339</td>\n",
              "      <td>2.029270</td>\n",
              "      <td>0.996049</td>\n",
              "      <td>1.609596</td>\n",
              "    </tr>\n",
              "    <tr>\n",
              "      <th>Nonflavanoid.phenols</th>\n",
              "      <td>-0.049123</td>\n",
              "      <td>0.361854</td>\n",
              "      <td>0.124103</td>\n",
              "      <td>0.355758</td>\n",
              "    </tr>\n",
              "    <tr>\n",
              "      <th>Proanth</th>\n",
              "      <td>0.079403</td>\n",
              "      <td>1.590899</td>\n",
              "      <td>0.570749</td>\n",
              "      <td>1.636218</td>\n",
              "    </tr>\n",
              "    <tr>\n",
              "      <th>Color.int</th>\n",
              "      <td>0.367415</td>\n",
              "      <td>5.058090</td>\n",
              "      <td>2.311765</td>\n",
              "      <td>5.907467</td>\n",
              "    </tr>\n",
              "    <tr>\n",
              "      <th>Hue</th>\n",
              "      <td>0.034409</td>\n",
              "      <td>0.957449</td>\n",
              "      <td>0.227929</td>\n",
              "      <td>0.965292</td>\n",
              "    </tr>\n",
              "    <tr>\n",
              "      <th>OD</th>\n",
              "      <td>-0.073746</td>\n",
              "      <td>2.611685</td>\n",
              "      <td>0.707993</td>\n",
              "      <td>2.559474</td>\n",
              "    </tr>\n",
              "  </tbody>\n",
              "</table>\n",
              "</div>"
            ],
            "text/plain": [
              "                      Coeficiente     Medias  Desviacion  Coef_final\n",
              "Wine                    -0.759907   1.938202    0.772855    1.350904\n",
              "Alcohol                  0.152939  13.000618    0.809543   13.124429\n",
              "Malic.acid              -0.073977   2.336348    1.114004    2.253938\n",
              "Ash                      0.122225   2.366517    0.273572    2.399954\n",
              "Acl                     -0.085450  19.494944    3.330170   19.210381\n",
              "Mg                       0.080930  99.741573   14.242308  100.894203\n",
              "Phenols                  0.157384   2.295112    0.624091    2.393334\n",
              "Flavanoids              -0.421339   2.029270    0.996049    1.609596\n",
              "Nonflavanoid.phenols    -0.049123   0.361854    0.124103    0.355758\n",
              "Proanth                  0.079403   1.590899    0.570749    1.636218\n",
              "Color.int                0.367415   5.058090    2.311765    5.907467\n",
              "Hue                      0.034409   0.957449    0.227929    0.965292\n",
              "OD                      -0.073746   2.611685    0.707993    2.559474"
            ]
          },
          "metadata": {},
          "execution_count": 26
        }
      ]
    },
    {
      "cell_type": "markdown",
      "metadata": {
        "id": "kkY-h_oKCa3e"
      },
      "source": [
        "### **1.2.5 Calculamos las predicciones**"
      ]
    },
    {
      "cell_type": "code",
      "metadata": {
        "colab": {
          "base_uri": "https://localhost:8080/"
        },
        "id": "qF0d9S_cEmk5",
        "outputId": "6d52af93-0f88-4b23-9d84-6778b3f36a37"
      },
      "source": [
        "#Hacemos nuestras predicciones\n",
        "y_pred = regressor.predict(X_test)\n",
        "y_pred"
      ],
      "execution_count": 66,
      "outputs": [
        {
          "output_type": "execute_result",
          "data": {
            "text/plain": [
              "array([[ 0.96453059],\n",
              "       [ 0.56485563],\n",
              "       [-0.26634055],\n",
              "       [ 0.66815138],\n",
              "       [-0.51286369],\n",
              "       [ 1.12668714],\n",
              "       [-1.13709417],\n",
              "       [-0.32404416],\n",
              "       [-0.21448974],\n",
              "       [-0.22037489],\n",
              "       [ 0.52530428],\n",
              "       [-0.08241104],\n",
              "       [-0.28885415],\n",
              "       [-0.85914041],\n",
              "       [ 1.24745993],\n",
              "       [-0.87334379],\n",
              "       [-0.72018677],\n",
              "       [-0.82192459],\n",
              "       [ 1.14775087],\n",
              "       [-0.67129189],\n",
              "       [ 1.48831665],\n",
              "       [ 0.21148955],\n",
              "       [-0.26503957],\n",
              "       [-0.0362105 ],\n",
              "       [-0.25511601],\n",
              "       [-0.03456092],\n",
              "       [-0.7127638 ],\n",
              "       [ 0.16662538],\n",
              "       [-0.73881336],\n",
              "       [ 0.76861764],\n",
              "       [ 0.89838431],\n",
              "       [-1.02071839],\n",
              "       [-0.83845149],\n",
              "       [ 0.71413963],\n",
              "       [ 0.8218205 ],\n",
              "       [ 1.23091432],\n",
              "       [ 1.13720536],\n",
              "       [-1.16572167],\n",
              "       [-0.18138266],\n",
              "       [ 0.69680575],\n",
              "       [ 0.16113572],\n",
              "       [-0.63783551],\n",
              "       [ 0.01026801],\n",
              "       [ 0.21155155],\n",
              "       [-0.43569663]])"
            ]
          },
          "metadata": {},
          "execution_count": 66
        }
      ]
    },
    {
      "cell_type": "code",
      "metadata": {
        "colab": {
          "base_uri": "https://localhost:8080/"
        },
        "id": "qrA50m-CEp7L",
        "outputId": "8fcdf122-4f5f-4229-d7b5-3d235708214c"
      },
      "source": [
        "from sklearn import metrics \n",
        "print('Mean Absolute Error:', metrics.mean_absolute_error(y_test, y_pred))\n",
        "print('Mean Squared Error:', metrics.mean_squared_error(y_test, y_pred))\n",
        "print('Root Mean Squared Error:', np.sqrt(metrics.mean_squared_error(y_test, y_pred)))"
      ],
      "execution_count": 60,
      "outputs": [
        {
          "output_type": "stream",
          "name": "stdout",
          "text": [
            "Mean Absolute Error: 0.5500206423138361\n",
            "Mean Squared Error: 0.470064620174384\n",
            "Root Mean Squared Error: 0.6856125875262092\n"
          ]
        }
      ]
    },
    {
      "cell_type": "code",
      "metadata": {
        "colab": {
          "base_uri": "https://localhost:8080/"
        },
        "id": "rJNL03ExEtmI",
        "outputId": "645002b9-5855-4c3e-8883-8542c54bd946"
      },
      "source": [
        "media_y= np.mean(data_wine.Proline)\n",
        "desviacion_y= np.mean(data_wine.Proline)\n",
        "desviacion_y"
      ],
      "execution_count": 61,
      "outputs": [
        {
          "output_type": "execute_result",
          "data": {
            "text/plain": [
              "746.8932584269663"
            ]
          },
          "metadata": {},
          "execution_count": 61
        }
      ]
    },
    {
      "cell_type": "code",
      "metadata": {
        "colab": {
          "base_uri": "https://localhost:8080/",
          "height": 1000
        },
        "id": "9V19k-ikRnGE",
        "outputId": "0a8da885-874d-4c6c-894f-fd41673bc827"
      },
      "source": [
        "df_n= pd.DataFrame(X_test, columns=data_wine_x.columns)\n",
        "df_n['y_pred']=y_pred\n",
        "df_n['y_pred_final']=(y_pred*desviacion_y)+media_y\n",
        "df_n"
      ],
      "execution_count": 62,
      "outputs": [
        {
          "output_type": "execute_result",
          "data": {
            "text/html": [
              "<div>\n",
              "<style scoped>\n",
              "    .dataframe tbody tr th:only-of-type {\n",
              "        vertical-align: middle;\n",
              "    }\n",
              "\n",
              "    .dataframe tbody tr th {\n",
              "        vertical-align: top;\n",
              "    }\n",
              "\n",
              "    .dataframe thead th {\n",
              "        text-align: right;\n",
              "    }\n",
              "</style>\n",
              "<table border=\"1\" class=\"dataframe\">\n",
              "  <thead>\n",
              "    <tr style=\"text-align: right;\">\n",
              "      <th></th>\n",
              "      <th>Alcohol</th>\n",
              "      <th>Malic.acid</th>\n",
              "      <th>Ash</th>\n",
              "      <th>Acl</th>\n",
              "      <th>Mg</th>\n",
              "      <th>Phenols</th>\n",
              "      <th>Flavanoids</th>\n",
              "      <th>Nonflavanoid.phenols</th>\n",
              "      <th>Proanth</th>\n",
              "      <th>Color.int</th>\n",
              "      <th>Hue</th>\n",
              "      <th>OD</th>\n",
              "      <th>y_pred</th>\n",
              "      <th>y_pred_final</th>\n",
              "    </tr>\n",
              "  </thead>\n",
              "  <tbody>\n",
              "    <tr>\n",
              "      <th>0</th>\n",
              "      <td>0.789806</td>\n",
              "      <td>0.685502</td>\n",
              "      <td>0.707247</td>\n",
              "      <td>-1.289707</td>\n",
              "      <td>1.141558</td>\n",
              "      <td>0.648764</td>\n",
              "      <td>1.004700</td>\n",
              "      <td>-1.545922</td>\n",
              "      <td>0.121071</td>\n",
              "      <td>0.018129</td>\n",
              "      <td>0.011190</td>\n",
              "      <td>1.056952</td>\n",
              "      <td>0.964531</td>\n",
              "      <td>1467.294651</td>\n",
              "    </tr>\n",
              "    <tr>\n",
              "      <th>1</th>\n",
              "      <td>1.493907</td>\n",
              "      <td>1.529305</td>\n",
              "      <td>0.268606</td>\n",
              "      <td>-0.178653</td>\n",
              "      <td>0.790492</td>\n",
              "      <td>0.889114</td>\n",
              "      <td>0.623193</td>\n",
              "      <td>-0.498407</td>\n",
              "      <td>-0.597284</td>\n",
              "      <td>0.078689</td>\n",
              "      <td>-0.383670</td>\n",
              "      <td>1.014578</td>\n",
              "      <td>0.564856</td>\n",
              "      <td>1168.780118</td>\n",
              "    </tr>\n",
              "    <tr>\n",
              "      <th>2</th>\n",
              "      <td>-0.087232</td>\n",
              "      <td>0.425180</td>\n",
              "      <td>1.218995</td>\n",
              "      <td>0.451946</td>\n",
              "      <td>-0.262708</td>\n",
              "      <td>-1.209940</td>\n",
              "      <td>-1.535336</td>\n",
              "      <td>1.354888</td>\n",
              "      <td>-1.473326</td>\n",
              "      <td>-0.198156</td>\n",
              "      <td>-0.822404</td>\n",
              "      <td>-0.426113</td>\n",
              "      <td>-0.266341</td>\n",
              "      <td>547.965300</td>\n",
              "    </tr>\n",
              "    <tr>\n",
              "      <th>3</th>\n",
              "      <td>0.900980</td>\n",
              "      <td>-0.750759</td>\n",
              "      <td>1.218995</td>\n",
              "      <td>0.902373</td>\n",
              "      <td>0.088358</td>\n",
              "      <td>1.129464</td>\n",
              "      <td>1.225573</td>\n",
              "      <td>-0.578985</td>\n",
              "      <td>1.382572</td>\n",
              "      <td>0.277671</td>\n",
              "      <td>1.020278</td>\n",
              "      <td>0.138864</td>\n",
              "      <td>0.668151</td>\n",
              "      <td>1245.931021</td>\n",
              "    </tr>\n",
              "    <tr>\n",
              "      <th>4</th>\n",
              "      <td>-0.778980</td>\n",
              "      <td>-1.046988</td>\n",
              "      <td>-1.632171</td>\n",
              "      <td>0.031547</td>\n",
              "      <td>-1.526548</td>\n",
              "      <td>-0.296611</td>\n",
              "      <td>-0.029386</td>\n",
              "      <td>-0.740141</td>\n",
              "      <td>-0.965221</td>\n",
              "      <td>-0.163550</td>\n",
              "      <td>0.713164</td>\n",
              "      <td>1.226445</td>\n",
              "      <td>-0.512864</td>\n",
              "      <td>363.838823</td>\n",
              "    </tr>\n",
              "    <tr>\n",
              "      <th>5</th>\n",
              "      <td>1.605081</td>\n",
              "      <td>-0.373741</td>\n",
              "      <td>1.292101</td>\n",
              "      <td>0.151661</td>\n",
              "      <td>1.422412</td>\n",
              "      <td>0.808997</td>\n",
              "      <td>1.115136</td>\n",
              "      <td>-0.256673</td>\n",
              "      <td>0.664217</td>\n",
              "      <td>0.493956</td>\n",
              "      <td>0.493797</td>\n",
              "      <td>0.054117</td>\n",
              "      <td>1.126687</td>\n",
              "      <td>1588.408288</td>\n",
              "    </tr>\n",
              "    <tr>\n",
              "      <th>6</th>\n",
              "      <td>-1.236028</td>\n",
              "      <td>0.981731</td>\n",
              "      <td>-1.339744</td>\n",
              "      <td>-0.148624</td>\n",
              "      <td>-0.894628</td>\n",
              "      <td>-0.472868</td>\n",
              "      <td>-0.390814</td>\n",
              "      <td>0.065639</td>\n",
              "      <td>0.489009</td>\n",
              "      <td>-1.634288</td>\n",
              "      <td>-0.120430</td>\n",
              "      <td>0.619094</td>\n",
              "      <td>-1.137094</td>\n",
              "      <td>-102.394708</td>\n",
              "    </tr>\n",
              "    <tr>\n",
              "      <th>7</th>\n",
              "      <td>0.493343</td>\n",
              "      <td>1.412609</td>\n",
              "      <td>0.414820</td>\n",
              "      <td>1.052516</td>\n",
              "      <td>0.158572</td>\n",
              "      <td>-0.793334</td>\n",
              "      <td>-1.284344</td>\n",
              "      <td>0.549108</td>\n",
              "      <td>-0.316950</td>\n",
              "      <td>0.969783</td>\n",
              "      <td>-1.129518</td>\n",
              "      <td>-1.485445</td>\n",
              "      <td>-0.324044</td>\n",
              "      <td>504.866857</td>\n",
              "    </tr>\n",
              "    <tr>\n",
              "      <th>8</th>\n",
              "      <td>-1.717782</td>\n",
              "      <td>-0.885409</td>\n",
              "      <td>1.218995</td>\n",
              "      <td>0.151661</td>\n",
              "      <td>-0.403135</td>\n",
              "      <td>0.712858</td>\n",
              "      <td>0.894264</td>\n",
              "      <td>-0.578985</td>\n",
              "      <td>1.575301</td>\n",
              "      <td>-1.041667</td>\n",
              "      <td>0.011190</td>\n",
              "      <td>0.915707</td>\n",
              "      <td>-0.214490</td>\n",
              "      <td>586.692316</td>\n",
              "    </tr>\n",
              "    <tr>\n",
              "      <th>9</th>\n",
              "      <td>0.443932</td>\n",
              "      <td>0.200764</td>\n",
              "      <td>-0.060375</td>\n",
              "      <td>0.151661</td>\n",
              "      <td>-0.754202</td>\n",
              "      <td>-1.434267</td>\n",
              "      <td>-1.535336</td>\n",
              "      <td>0.065639</td>\n",
              "      <td>-1.666055</td>\n",
              "      <td>0.234414</td>\n",
              "      <td>-1.129518</td>\n",
              "      <td>-0.200123</td>\n",
              "      <td>-0.220375</td>\n",
              "      <td>582.296736</td>\n",
              "    </tr>\n",
              "    <tr>\n",
              "      <th>10</th>\n",
              "      <td>0.616869</td>\n",
              "      <td>-0.472483</td>\n",
              "      <td>0.890014</td>\n",
              "      <td>0.151661</td>\n",
              "      <td>-0.262708</td>\n",
              "      <td>0.376368</td>\n",
              "      <td>0.583034</td>\n",
              "      <td>-0.659563</td>\n",
              "      <td>0.121071</td>\n",
              "      <td>-0.665332</td>\n",
              "      <td>0.713164</td>\n",
              "      <td>1.706675</td>\n",
              "      <td>0.525304</td>\n",
              "      <td>1139.239487</td>\n",
              "    </tr>\n",
              "    <tr>\n",
              "      <th>11</th>\n",
              "      <td>0.616869</td>\n",
              "      <td>0.703455</td>\n",
              "      <td>0.926567</td>\n",
              "      <td>1.352801</td>\n",
              "      <td>1.633052</td>\n",
              "      <td>-1.434267</td>\n",
              "      <td>-0.461091</td>\n",
              "      <td>-1.143031</td>\n",
              "      <td>-0.597284</td>\n",
              "      <td>1.532124</td>\n",
              "      <td>-1.612125</td>\n",
              "      <td>-1.852681</td>\n",
              "      <td>-0.082411</td>\n",
              "      <td>685.341012</td>\n",
              "    </tr>\n",
              "    <tr>\n",
              "      <th>12</th>\n",
              "      <td>0.505695</td>\n",
              "      <td>1.349773</td>\n",
              "      <td>-0.901103</td>\n",
              "      <td>-0.208681</td>\n",
              "      <td>-0.683988</td>\n",
              "      <td>0.248181</td>\n",
              "      <td>0.653312</td>\n",
              "      <td>-0.740141</td>\n",
              "      <td>-0.194304</td>\n",
              "      <td>-0.336578</td>\n",
              "      <td>-0.208177</td>\n",
              "      <td>0.548472</td>\n",
              "      <td>-0.288854</td>\n",
              "      <td>531.150038</td>\n",
              "    </tr>\n",
              "    <tr>\n",
              "      <th>13</th>\n",
              "      <td>-0.284874</td>\n",
              "      <td>0.981731</td>\n",
              "      <td>-1.412851</td>\n",
              "      <td>-1.049479</td>\n",
              "      <td>-1.386122</td>\n",
              "      <td>-1.065731</td>\n",
              "      <td>-0.782361</td>\n",
              "      <td>0.549108</td>\n",
              "      <td>-1.333159</td>\n",
              "      <td>-0.717240</td>\n",
              "      <td>-1.129518</td>\n",
              "      <td>-0.694478</td>\n",
              "      <td>-0.859140</td>\n",
              "      <td>105.207076</td>\n",
              "    </tr>\n",
              "    <tr>\n",
              "      <th>14</th>\n",
              "      <td>0.777454</td>\n",
              "      <td>-0.472483</td>\n",
              "      <td>1.218995</td>\n",
              "      <td>-0.689137</td>\n",
              "      <td>0.860705</td>\n",
              "      <td>0.889114</td>\n",
              "      <td>0.884224</td>\n",
              "      <td>-0.498407</td>\n",
              "      <td>-0.229346</td>\n",
              "      <td>0.969783</td>\n",
              "      <td>1.415139</td>\n",
              "      <td>0.378979</td>\n",
              "      <td>1.247460</td>\n",
              "      <td>1678.612669</td>\n",
              "    </tr>\n",
              "    <tr>\n",
              "      <th>15</th>\n",
              "      <td>-0.593691</td>\n",
              "      <td>0.084068</td>\n",
              "      <td>-0.718336</td>\n",
              "      <td>0.451946</td>\n",
              "      <td>-0.824415</td>\n",
              "      <td>0.408415</td>\n",
              "      <td>0.241685</td>\n",
              "      <td>-0.820719</td>\n",
              "      <td>-0.649846</td>\n",
              "      <td>-1.322838</td>\n",
              "      <td>-0.252050</td>\n",
              "      <td>0.237735</td>\n",
              "      <td>-0.873344</td>\n",
              "      <td>94.598667</td>\n",
              "    </tr>\n",
              "    <tr>\n",
              "      <th>16</th>\n",
              "      <td>-1.964835</td>\n",
              "      <td>-1.432983</td>\n",
              "      <td>0.487926</td>\n",
              "      <td>0.451946</td>\n",
              "      <td>-0.824415</td>\n",
              "      <td>0.296251</td>\n",
              "      <td>-0.019346</td>\n",
              "      <td>0.468530</td>\n",
              "      <td>-0.264388</td>\n",
              "      <td>-0.855662</td>\n",
              "      <td>0.625418</td>\n",
              "      <td>-0.426113</td>\n",
              "      <td>-0.720187</td>\n",
              "      <td>208.990618</td>\n",
              "    </tr>\n",
              "    <tr>\n",
              "      <th>17</th>\n",
              "      <td>-1.137207</td>\n",
              "      <td>-1.082894</td>\n",
              "      <td>0.524480</td>\n",
              "      <td>1.352801</td>\n",
              "      <td>-1.526548</td>\n",
              "      <td>-0.472868</td>\n",
              "      <td>-0.451052</td>\n",
              "      <td>0.307374</td>\n",
              "      <td>-0.334471</td>\n",
              "      <td>-1.236324</td>\n",
              "      <td>1.546759</td>\n",
              "      <td>0.152988</td>\n",
              "      <td>-0.821925</td>\n",
              "      <td>133.003320</td>\n",
              "    </tr>\n",
              "    <tr>\n",
              "      <th>18</th>\n",
              "      <td>1.061565</td>\n",
              "      <td>-0.885409</td>\n",
              "      <td>-0.352802</td>\n",
              "      <td>-1.049479</td>\n",
              "      <td>-0.122282</td>\n",
              "      <td>1.097417</td>\n",
              "      <td>1.125176</td>\n",
              "      <td>-1.143031</td>\n",
              "      <td>0.453967</td>\n",
              "      <td>0.935177</td>\n",
              "      <td>0.230557</td>\n",
              "      <td>1.325316</td>\n",
              "      <td>1.147751</td>\n",
              "      <td>1604.140645</td>\n",
              "    </tr>\n",
              "    <tr>\n",
              "      <th>19</th>\n",
              "      <td>-1.137207</td>\n",
              "      <td>-0.849502</td>\n",
              "      <td>0.487926</td>\n",
              "      <td>0.902373</td>\n",
              "      <td>-1.105268</td>\n",
              "      <td>0.424438</td>\n",
              "      <td>0.261765</td>\n",
              "      <td>0.549108</td>\n",
              "      <td>-0.965221</td>\n",
              "      <td>-0.933525</td>\n",
              "      <td>-0.120430</td>\n",
              "      <td>0.816836</td>\n",
              "      <td>-0.671292</td>\n",
              "      <td>245.509870</td>\n",
              "    </tr>\n",
              "    <tr>\n",
              "      <th>20</th>\n",
              "      <td>1.469202</td>\n",
              "      <td>-0.669969</td>\n",
              "      <td>0.414820</td>\n",
              "      <td>-0.899337</td>\n",
              "      <td>0.579852</td>\n",
              "      <td>1.610163</td>\n",
              "      <td>1.908270</td>\n",
              "      <td>-0.337251</td>\n",
              "      <td>0.471488</td>\n",
              "      <td>1.575381</td>\n",
              "      <td>1.195772</td>\n",
              "      <td>0.294232</td>\n",
              "      <td>1.488317</td>\n",
              "      <td>1858.506928</td>\n",
              "    </tr>\n",
              "    <tr>\n",
              "      <th>21</th>\n",
              "      <td>0.135116</td>\n",
              "      <td>-1.190614</td>\n",
              "      <td>-2.436346</td>\n",
              "      <td>-1.349764</td>\n",
              "      <td>-1.526548</td>\n",
              "      <td>1.097417</td>\n",
              "      <td>1.155295</td>\n",
              "      <td>-0.820719</td>\n",
              "      <td>1.207363</td>\n",
              "      <td>0.104643</td>\n",
              "      <td>0.713164</td>\n",
              "      <td>0.802712</td>\n",
              "      <td>0.211490</td>\n",
              "      <td>904.853379</td>\n",
              "    </tr>\n",
              "    <tr>\n",
              "      <th>22</th>\n",
              "      <td>-0.828391</td>\n",
              "      <td>-1.109824</td>\n",
              "      <td>-0.316249</td>\n",
              "      <td>-1.049479</td>\n",
              "      <td>0.088358</td>\n",
              "      <td>-0.392751</td>\n",
              "      <td>-0.942995</td>\n",
              "      <td>2.160669</td>\n",
              "      <td>-2.069034</td>\n",
              "      <td>-0.773474</td>\n",
              "      <td>1.283518</td>\n",
              "      <td>-1.330077</td>\n",
              "      <td>-0.265040</td>\n",
              "      <td>548.936987</td>\n",
              "    </tr>\n",
              "    <tr>\n",
              "      <th>23</th>\n",
              "      <td>0.493343</td>\n",
              "      <td>2.031997</td>\n",
              "      <td>1.803849</td>\n",
              "      <td>1.653086</td>\n",
              "      <td>0.860705</td>\n",
              "      <td>-0.504914</td>\n",
              "      <td>-1.073511</td>\n",
              "      <td>-0.740141</td>\n",
              "      <td>-0.842575</td>\n",
              "      <td>1.488867</td>\n",
              "      <td>-1.261138</td>\n",
              "      <td>-0.976966</td>\n",
              "      <td>-0.036211</td>\n",
              "      <td>719.847878</td>\n",
              "    </tr>\n",
              "    <tr>\n",
              "      <th>24</th>\n",
              "      <td>-0.284874</td>\n",
              "      <td>0.048161</td>\n",
              "      <td>-0.316249</td>\n",
              "      <td>0.001518</td>\n",
              "      <td>-0.964842</td>\n",
              "      <td>-1.450290</td>\n",
              "      <td>-1.525296</td>\n",
              "      <td>0.951998</td>\n",
              "      <td>-1.666055</td>\n",
              "      <td>2.094465</td>\n",
              "      <td>-1.699872</td>\n",
              "      <td>-1.386574</td>\n",
              "      <td>-0.255116</td>\n",
              "      <td>556.348828</td>\n",
              "    </tr>\n",
              "    <tr>\n",
              "      <th>25</th>\n",
              "      <td>0.962743</td>\n",
              "      <td>0.380297</td>\n",
              "      <td>-0.243142</td>\n",
              "      <td>0.752231</td>\n",
              "      <td>-0.683988</td>\n",
              "      <td>-1.514383</td>\n",
              "      <td>-1.354622</td>\n",
              "      <td>0.387952</td>\n",
              "      <td>-0.982742</td>\n",
              "      <td>1.956043</td>\n",
              "      <td>-1.129518</td>\n",
              "      <td>-1.315952</td>\n",
              "      <td>-0.034561</td>\n",
              "      <td>721.079944</td>\n",
              "    </tr>\n",
              "    <tr>\n",
              "      <th>26</th>\n",
              "      <td>-0.717217</td>\n",
              "      <td>-0.652016</td>\n",
              "      <td>-0.645229</td>\n",
              "      <td>0.902373</td>\n",
              "      <td>0.579852</td>\n",
              "      <td>-0.472868</td>\n",
              "      <td>0.060971</td>\n",
              "      <td>-0.176095</td>\n",
              "      <td>0.033467</td>\n",
              "      <td>-1.296884</td>\n",
              "      <td>0.449924</td>\n",
              "      <td>0.491974</td>\n",
              "      <td>-0.712764</td>\n",
              "      <td>214.534785</td>\n",
              "    </tr>\n",
              "    <tr>\n",
              "      <th>27</th>\n",
              "      <td>-0.778980</td>\n",
              "      <td>-1.011081</td>\n",
              "      <td>0.707247</td>\n",
              "      <td>-0.418881</td>\n",
              "      <td>-0.122282</td>\n",
              "      <td>0.200111</td>\n",
              "      <td>0.623193</td>\n",
              "      <td>0.065639</td>\n",
              "      <td>0.856946</td>\n",
              "      <td>-0.198156</td>\n",
              "      <td>1.020278</td>\n",
              "      <td>-0.440238</td>\n",
              "      <td>0.166625</td>\n",
              "      <td>871.344630</td>\n",
              "    </tr>\n",
              "    <tr>\n",
              "      <th>28</th>\n",
              "      <td>-1.137207</td>\n",
              "      <td>-0.454530</td>\n",
              "      <td>-0.170035</td>\n",
              "      <td>-0.298767</td>\n",
              "      <td>-1.315908</td>\n",
              "      <td>-1.113800</td>\n",
              "      <td>-0.531369</td>\n",
              "      <td>1.274310</td>\n",
              "      <td>0.086029</td>\n",
              "      <td>-1.149810</td>\n",
              "      <td>0.537671</td>\n",
              "      <td>-0.482611</td>\n",
              "      <td>-0.738813</td>\n",
              "      <td>195.078541</td>\n",
              "    </tr>\n",
              "    <tr>\n",
              "      <th>29</th>\n",
              "      <td>0.690985</td>\n",
              "      <td>-0.544297</td>\n",
              "      <td>0.341713</td>\n",
              "      <td>0.301803</td>\n",
              "      <td>1.141558</td>\n",
              "      <td>1.065370</td>\n",
              "      <td>0.753708</td>\n",
              "      <td>-1.304188</td>\n",
              "      <td>1.505217</td>\n",
              "      <td>0.515585</td>\n",
              "      <td>0.098937</td>\n",
              "      <td>0.590845</td>\n",
              "      <td>0.768618</td>\n",
              "      <td>1320.968595</td>\n",
              "    </tr>\n",
              "    <tr>\n",
              "      <th>30</th>\n",
              "      <td>1.259207</td>\n",
              "      <td>-0.589180</td>\n",
              "      <td>-0.572122</td>\n",
              "      <td>-1.049479</td>\n",
              "      <td>-0.262708</td>\n",
              "      <td>0.568648</td>\n",
              "      <td>0.301923</td>\n",
              "      <td>-0.820719</td>\n",
              "      <td>0.681738</td>\n",
              "      <td>-0.154899</td>\n",
              "      <td>0.362177</td>\n",
              "      <td>1.381813</td>\n",
              "      <td>0.898384</td>\n",
              "      <td>1417.890441</td>\n",
              "    </tr>\n",
              "    <tr>\n",
              "      <th>31</th>\n",
              "      <td>-0.778980</td>\n",
              "      <td>-0.634063</td>\n",
              "      <td>-0.243142</td>\n",
              "      <td>1.502943</td>\n",
              "      <td>-0.824415</td>\n",
              "      <td>-0.120355</td>\n",
              "      <td>0.422399</td>\n",
              "      <td>0.307374</td>\n",
              "      <td>0.541571</td>\n",
              "      <td>-1.270929</td>\n",
              "      <td>-0.295924</td>\n",
              "      <td>0.237735</td>\n",
              "      <td>-1.020718</td>\n",
              "      <td>-15.474425</td>\n",
              "    </tr>\n",
              "    <tr>\n",
              "      <th>32</th>\n",
              "      <td>0.196879</td>\n",
              "      <td>1.107404</td>\n",
              "      <td>-0.791443</td>\n",
              "      <td>0.451946</td>\n",
              "      <td>0.158572</td>\n",
              "      <td>-1.274034</td>\n",
              "      <td>-1.485138</td>\n",
              "      <td>0.549108</td>\n",
              "      <td>-0.509679</td>\n",
              "      <td>-0.457698</td>\n",
              "      <td>-1.568252</td>\n",
              "      <td>-1.315952</td>\n",
              "      <td>-0.838451</td>\n",
              "      <td>120.659492</td>\n",
              "    </tr>\n",
              "    <tr>\n",
              "      <th>33</th>\n",
              "      <td>0.715690</td>\n",
              "      <td>-0.607133</td>\n",
              "      <td>-0.023821</td>\n",
              "      <td>-0.118596</td>\n",
              "      <td>0.439425</td>\n",
              "      <td>0.905137</td>\n",
              "      <td>1.165335</td>\n",
              "      <td>-1.143031</td>\n",
              "      <td>0.629175</td>\n",
              "      <td>0.796755</td>\n",
              "      <td>0.581544</td>\n",
              "      <td>0.378979</td>\n",
              "      <td>0.714140</td>\n",
              "      <td>1280.279333</td>\n",
              "    </tr>\n",
              "    <tr>\n",
              "      <th>34</th>\n",
              "      <td>0.925685</td>\n",
              "      <td>-0.544297</td>\n",
              "      <td>0.158946</td>\n",
              "      <td>-1.049479</td>\n",
              "      <td>-0.754202</td>\n",
              "      <td>0.488531</td>\n",
              "      <td>0.733629</td>\n",
              "      <td>-0.578985</td>\n",
              "      <td>0.383884</td>\n",
              "      <td>0.234414</td>\n",
              "      <td>0.844785</td>\n",
              "      <td>0.407228</td>\n",
              "      <td>0.821820</td>\n",
              "      <td>1360.705448</td>\n",
              "    </tr>\n",
              "    <tr>\n",
              "      <th>35</th>\n",
              "      <td>1.086270</td>\n",
              "      <td>-0.400670</td>\n",
              "      <td>0.816907</td>\n",
              "      <td>-1.349764</td>\n",
              "      <td>0.088358</td>\n",
              "      <td>1.530047</td>\n",
              "      <td>1.536802</td>\n",
              "      <td>-1.545922</td>\n",
              "      <td>0.191154</td>\n",
              "      <td>0.160877</td>\n",
              "      <td>-0.339797</td>\n",
              "      <td>1.339440</td>\n",
              "      <td>1.230914</td>\n",
              "      <td>1666.254863</td>\n",
              "    </tr>\n",
              "    <tr>\n",
              "      <th>36</th>\n",
              "      <td>1.654492</td>\n",
              "      <td>-0.589180</td>\n",
              "      <td>1.218995</td>\n",
              "      <td>1.653086</td>\n",
              "      <td>-0.122282</td>\n",
              "      <td>0.808997</td>\n",
              "      <td>-0.722123</td>\n",
              "      <td>1.354888</td>\n",
              "      <td>1.943238</td>\n",
              "      <td>3.435432</td>\n",
              "      <td>-1.699872</td>\n",
              "      <td>-0.920468</td>\n",
              "      <td>1.137205</td>\n",
              "      <td>1596.264275</td>\n",
              "    </tr>\n",
              "    <tr>\n",
              "      <th>37</th>\n",
              "      <td>-0.581338</td>\n",
              "      <td>2.848870</td>\n",
              "      <td>0.999674</td>\n",
              "      <td>1.653086</td>\n",
              "      <td>-0.262708</td>\n",
              "      <td>-0.809357</td>\n",
              "      <td>-1.434939</td>\n",
              "      <td>2.160669</td>\n",
              "      <td>-0.860096</td>\n",
              "      <td>-0.025128</td>\n",
              "      <td>-0.603037</td>\n",
              "      <td>-1.301828</td>\n",
              "      <td>-1.165722</td>\n",
              "      <td>-123.776401</td>\n",
              "    </tr>\n",
              "    <tr>\n",
              "      <th>38</th>\n",
              "      <td>-0.778980</td>\n",
              "      <td>-1.136754</td>\n",
              "      <td>-0.974210</td>\n",
              "      <td>-0.298767</td>\n",
              "      <td>-0.824415</td>\n",
              "      <td>1.962676</td>\n",
              "      <td>1.727556</td>\n",
              "      <td>-0.981875</td>\n",
              "      <td>0.629175</td>\n",
              "      <td>-0.241413</td>\n",
              "      <td>0.362177</td>\n",
              "      <td>0.223610</td>\n",
              "      <td>-0.181383</td>\n",
              "      <td>611.419771</td>\n",
              "    </tr>\n",
              "    <tr>\n",
              "      <th>39</th>\n",
              "      <td>0.592164</td>\n",
              "      <td>-0.598156</td>\n",
              "      <td>0.999674</td>\n",
              "      <td>0.902373</td>\n",
              "      <td>-0.754202</td>\n",
              "      <td>0.488531</td>\n",
              "      <td>-0.932956</td>\n",
              "      <td>1.274310</td>\n",
              "      <td>1.224884</td>\n",
              "      <td>2.894719</td>\n",
              "      <td>-1.699872</td>\n",
              "      <td>-1.174708</td>\n",
              "      <td>0.696806</td>\n",
              "      <td>1267.332774</td>\n",
              "    </tr>\n",
              "    <tr>\n",
              "      <th>40</th>\n",
              "      <td>0.085705</td>\n",
              "      <td>-0.750759</td>\n",
              "      <td>-0.974210</td>\n",
              "      <td>-1.199622</td>\n",
              "      <td>-0.122282</td>\n",
              "      <td>0.168065</td>\n",
              "      <td>0.613153</td>\n",
              "      <td>-0.659563</td>\n",
              "      <td>-0.387033</td>\n",
              "      <td>-0.587469</td>\n",
              "      <td>0.976405</td>\n",
              "      <td>0.110615</td>\n",
              "      <td>0.161136</td>\n",
              "      <td>867.244439</td>\n",
              "    </tr>\n",
              "    <tr>\n",
              "      <th>41</th>\n",
              "      <td>-0.964270</td>\n",
              "      <td>-0.939268</td>\n",
              "      <td>-1.559065</td>\n",
              "      <td>-0.148624</td>\n",
              "      <td>-0.543562</td>\n",
              "      <td>0.103972</td>\n",
              "      <td>0.010773</td>\n",
              "      <td>0.226796</td>\n",
              "      <td>0.856946</td>\n",
              "      <td>-1.020039</td>\n",
              "      <td>-0.427544</td>\n",
              "      <td>0.576721</td>\n",
              "      <td>-0.637836</td>\n",
              "      <td>270.498214</td>\n",
              "    </tr>\n",
              "    <tr>\n",
              "      <th>42</th>\n",
              "      <td>-0.408401</td>\n",
              "      <td>-1.217544</td>\n",
              "      <td>-0.462462</td>\n",
              "      <td>-0.448909</td>\n",
              "      <td>-0.052068</td>\n",
              "      <td>-0.152402</td>\n",
              "      <td>-0.089624</td>\n",
              "      <td>-0.498407</td>\n",
              "      <td>-0.229346</td>\n",
              "      <td>-1.054644</td>\n",
              "      <td>1.195772</td>\n",
              "      <td>0.774463</td>\n",
              "      <td>0.010268</td>\n",
              "      <td>754.562369</td>\n",
              "    </tr>\n",
              "    <tr>\n",
              "      <th>43</th>\n",
              "      <td>0.419227</td>\n",
              "      <td>-1.253450</td>\n",
              "      <td>-0.023821</td>\n",
              "      <td>-0.749194</td>\n",
              "      <td>0.720278</td>\n",
              "      <td>0.376368</td>\n",
              "      <td>-0.732162</td>\n",
              "      <td>1.516045</td>\n",
              "      <td>-2.051513</td>\n",
              "      <td>-0.816731</td>\n",
              "      <td>0.274431</td>\n",
              "      <td>-0.962842</td>\n",
              "      <td>0.211552</td>\n",
              "      <td>904.899684</td>\n",
              "    </tr>\n",
              "    <tr>\n",
              "      <th>44</th>\n",
              "      <td>0.765101</td>\n",
              "      <td>2.346179</td>\n",
              "      <td>-0.060375</td>\n",
              "      <td>0.151661</td>\n",
              "      <td>-0.543562</td>\n",
              "      <td>-0.472868</td>\n",
              "      <td>-1.234146</td>\n",
              "      <td>0.871420</td>\n",
              "      <td>-1.000263</td>\n",
              "      <td>-0.284670</td>\n",
              "      <td>-0.208177</td>\n",
              "      <td>-0.793348</td>\n",
              "      <td>-0.435697</td>\n",
              "      <td>421.474384</td>\n",
              "    </tr>\n",
              "  </tbody>\n",
              "</table>\n",
              "</div>"
            ],
            "text/plain": [
              "     Alcohol  Malic.acid       Ash  ...        OD    y_pred  y_pred_final\n",
              "0   0.789806    0.685502  0.707247  ...  1.056952  0.964531   1467.294651\n",
              "1   1.493907    1.529305  0.268606  ...  1.014578  0.564856   1168.780118\n",
              "2  -0.087232    0.425180  1.218995  ... -0.426113 -0.266341    547.965300\n",
              "3   0.900980   -0.750759  1.218995  ...  0.138864  0.668151   1245.931021\n",
              "4  -0.778980   -1.046988 -1.632171  ...  1.226445 -0.512864    363.838823\n",
              "5   1.605081   -0.373741  1.292101  ...  0.054117  1.126687   1588.408288\n",
              "6  -1.236028    0.981731 -1.339744  ...  0.619094 -1.137094   -102.394708\n",
              "7   0.493343    1.412609  0.414820  ... -1.485445 -0.324044    504.866857\n",
              "8  -1.717782   -0.885409  1.218995  ...  0.915707 -0.214490    586.692316\n",
              "9   0.443932    0.200764 -0.060375  ... -0.200123 -0.220375    582.296736\n",
              "10  0.616869   -0.472483  0.890014  ...  1.706675  0.525304   1139.239487\n",
              "11  0.616869    0.703455  0.926567  ... -1.852681 -0.082411    685.341012\n",
              "12  0.505695    1.349773 -0.901103  ...  0.548472 -0.288854    531.150038\n",
              "13 -0.284874    0.981731 -1.412851  ... -0.694478 -0.859140    105.207076\n",
              "14  0.777454   -0.472483  1.218995  ...  0.378979  1.247460   1678.612669\n",
              "15 -0.593691    0.084068 -0.718336  ...  0.237735 -0.873344     94.598667\n",
              "16 -1.964835   -1.432983  0.487926  ... -0.426113 -0.720187    208.990618\n",
              "17 -1.137207   -1.082894  0.524480  ...  0.152988 -0.821925    133.003320\n",
              "18  1.061565   -0.885409 -0.352802  ...  1.325316  1.147751   1604.140645\n",
              "19 -1.137207   -0.849502  0.487926  ...  0.816836 -0.671292    245.509870\n",
              "20  1.469202   -0.669969  0.414820  ...  0.294232  1.488317   1858.506928\n",
              "21  0.135116   -1.190614 -2.436346  ...  0.802712  0.211490    904.853379\n",
              "22 -0.828391   -1.109824 -0.316249  ... -1.330077 -0.265040    548.936987\n",
              "23  0.493343    2.031997  1.803849  ... -0.976966 -0.036211    719.847878\n",
              "24 -0.284874    0.048161 -0.316249  ... -1.386574 -0.255116    556.348828\n",
              "25  0.962743    0.380297 -0.243142  ... -1.315952 -0.034561    721.079944\n",
              "26 -0.717217   -0.652016 -0.645229  ...  0.491974 -0.712764    214.534785\n",
              "27 -0.778980   -1.011081  0.707247  ... -0.440238  0.166625    871.344630\n",
              "28 -1.137207   -0.454530 -0.170035  ... -0.482611 -0.738813    195.078541\n",
              "29  0.690985   -0.544297  0.341713  ...  0.590845  0.768618   1320.968595\n",
              "30  1.259207   -0.589180 -0.572122  ...  1.381813  0.898384   1417.890441\n",
              "31 -0.778980   -0.634063 -0.243142  ...  0.237735 -1.020718    -15.474425\n",
              "32  0.196879    1.107404 -0.791443  ... -1.315952 -0.838451    120.659492\n",
              "33  0.715690   -0.607133 -0.023821  ...  0.378979  0.714140   1280.279333\n",
              "34  0.925685   -0.544297  0.158946  ...  0.407228  0.821820   1360.705448\n",
              "35  1.086270   -0.400670  0.816907  ...  1.339440  1.230914   1666.254863\n",
              "36  1.654492   -0.589180  1.218995  ... -0.920468  1.137205   1596.264275\n",
              "37 -0.581338    2.848870  0.999674  ... -1.301828 -1.165722   -123.776401\n",
              "38 -0.778980   -1.136754 -0.974210  ...  0.223610 -0.181383    611.419771\n",
              "39  0.592164   -0.598156  0.999674  ... -1.174708  0.696806   1267.332774\n",
              "40  0.085705   -0.750759 -0.974210  ...  0.110615  0.161136    867.244439\n",
              "41 -0.964270   -0.939268 -1.559065  ...  0.576721 -0.637836    270.498214\n",
              "42 -0.408401   -1.217544 -0.462462  ...  0.774463  0.010268    754.562369\n",
              "43  0.419227   -1.253450 -0.023821  ... -0.962842  0.211552    904.899684\n",
              "44  0.765101    2.346179 -0.060375  ... -0.793348 -0.435697    421.474384\n",
              "\n",
              "[45 rows x 14 columns]"
            ]
          },
          "metadata": {},
          "execution_count": 62
        }
      ]
    }
  ]
}